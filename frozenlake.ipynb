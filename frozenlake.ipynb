{
 "cells": [
  {
   "cell_type": "code",
   "execution_count": 2,
   "metadata": {},
   "outputs": [],
   "source": [
    "import gym\n",
    "import math\n",
    "import time\n",
    "import numpy as np\n",
    "from sklearn.preprocessing import KBinsDiscretizer\n",
    "np.random.seed(0)"
   ]
  },
  {
   "cell_type": "code",
   "execution_count": 3,
   "metadata": {},
   "outputs": [],
   "source": [
    "env = gym.make('FrozenLake-v0')"
   ]
  },
  {
   "cell_type": "code",
   "execution_count": 4,
   "metadata": {},
   "outputs": [
    {
     "data": {
      "text/plain": [
       "\u001b[1;31mType:\u001b[0m        FrozenLakeEnv\n",
       "\u001b[1;31mString form:\u001b[0m <FrozenLakeEnv<FrozenLake-v0>>\n",
       "\u001b[1;31mFile:\u001b[0m        c:\\users\\taha\\anaconda3\\lib\\site-packages\\gym\\envs\\toy_text\\frozen_lake.py\n",
       "\u001b[1;31mDocstring:\u001b[0m  \n",
       "Winter is here. You and your friends were tossing around a frisbee at the\n",
       "park when you made a wild throw that left the frisbee out in the middle of\n",
       "the lake. The water is mostly frozen, but there are a few holes where the\n",
       "ice has melted. If you step into one of those holes, you'll fall into the\n",
       "freezing water. At this time, there's an international frisbee shortage, so\n",
       "it's absolutely imperative that you navigate across the lake and retrieve\n",
       "the disc. However, the ice is slippery, so you won't always move in the\n",
       "direction you intend.\n",
       "The surface is described using a grid like the following\n",
       "\n",
       "    SFFF\n",
       "    FHFH\n",
       "    FFFH\n",
       "    HFFG\n",
       "\n",
       "S : starting point, safe\n",
       "F : frozen surface, safe\n",
       "H : hole, fall to your doom\n",
       "G : goal, where the frisbee is located\n",
       "\n",
       "The episode ends when you reach the goal or fall in a hole.\n",
       "You receive a reward of 1 if you reach the goal, and zero otherwise.\n"
      ]
     },
     "metadata": {},
     "output_type": "display_data"
    }
   ],
   "source": [
    "?env.env"
   ]
  },
  {
   "cell_type": "code",
   "execution_count": null,
   "metadata": {},
   "outputs": [],
   "source": [
    "for _ in range(3):\n",
    "    env.reset()\n",
    "    for _ in range(100):\n",
    "        env.step(env.action_space.sample())\n",
    "        env.render()\n",
    "env.close()"
   ]
  },
  {
   "cell_type": "code",
   "execution_count": 22,
   "metadata": {},
   "outputs": [
    {
     "data": {
      "text/plain": [
       "(16, 4)"
      ]
     },
     "execution_count": 22,
     "metadata": {},
     "output_type": "execute_result"
    }
   ],
   "source": [
    "Q_table = np.zeros((16,) + (env.action_space.n,))\n",
    "Q_table.shape"
   ]
  },
  {
   "cell_type": "code",
   "execution_count": 60,
   "metadata": {},
   "outputs": [
    {
     "name": "stdout",
     "output_type": "stream",
     "text": [
      "Took 67.68 seconds and failed\n",
      "[[0.76978161 0.73190827 0.72759758 0.73120632]\n",
      " [0.37280803 0.34757597 0.28426743 0.6551533 ]\n",
      " [0.51062117 0.30275957 0.32160538 0.34558829]\n",
      " [0.21757013 0.05268623 0.03320303 0.06713249]\n",
      " [0.77007717 0.51421304 0.52191354 0.53765541]\n",
      " [0.         0.         0.         0.        ]\n",
      " [0.37652058 0.1698534  0.3429371  0.14332201]\n",
      " [0.         0.         0.         0.        ]\n",
      " [0.55737331 0.50249115 0.50326395 0.77069244]\n",
      " [0.5125774  0.77191449 0.46605895 0.47601717]\n",
      " [0.71412928 0.54010665 0.4329502  0.36295429]\n",
      " [0.         0.         0.         0.        ]\n",
      " [0.         0.         0.         0.        ]\n",
      " [0.53220515 0.59193911 0.84701425 0.56130968]\n",
      " [0.83358377 0.9302524  0.86195797 0.84471407]\n",
      " [0.         0.         0.         0.        ]]\n"
     ]
    }
   ],
   "source": [
    "tic = time.time()\n",
    "Q_table = np.zeros((16,) + (env.action_space.n,))\n",
    "reward_list = []\n",
    "plot_reward = []\n",
    "total_reward = 0\n",
    "consec = 0\n",
    "success = False\n",
    "for i in range(1, 100001):\n",
    "    lr = max(0.01, min(1.0, 1.0 - math.log10((i + 1) / 25)))\n",
    "    epsilon =  max(0.05, min(1, 1.0 - math.log10((i  + 1) / 25)))\n",
    "    current = env.reset()\n",
    "    done = False\n",
    "    while not done:\n",
    "        if np.random.random() < epsilon:\n",
    "            action = env.action_space.sample()\n",
    "        else:\n",
    "            action = np.argmax(Q_table[current])\n",
    "        observation, reward, done, info = env.step(action) \n",
    "        next_state = observation\n",
    "        Q_table[current][action] += lr*(reward + np.max(Q_table[next_state]) - Q_table[current][action])\n",
    "        current = next_state\n",
    "        total_reward += reward\n",
    "        if done:\n",
    "            final_reward = reward\n",
    "    if final_reward == 1:\n",
    "        consec += 1\n",
    "    else:\n",
    "        consec = 0\n",
    "    if consec == 100:\n",
    "        toc = time.time()\n",
    "        success = True\n",
    "        print(f'Took {toc-tic:.2f} seconds and succeeded in {i} episodes')\n",
    "        break \n",
    "    total_reward = 0\n",
    "toc = time.time()\n",
    "if not success:\n",
    "    print(f'Took {toc-tic:.2f} seconds and failed')\n",
    "print(Q_table)"
   ]
  },
  {
   "cell_type": "code",
   "execution_count": 61,
   "metadata": {},
   "outputs": [],
   "source": [
    "Q_table_100k = Q_table"
   ]
  },
  {
   "cell_type": "code",
   "execution_count": 59,
   "metadata": {},
   "outputs": [
    {
     "name": "stdout",
     "output_type": "stream",
     "text": [
      "Took 17.98 seconds and failed\n",
      "[[5.07962058e-01 3.39101535e-01 3.34459703e-01 1.63899391e-01]\n",
      " [1.90775401e-01 8.01555902e-02 3.85038264e-02 9.91121436e-02]\n",
      " [2.07395178e-01 5.61332939e-02 2.80806712e-02 3.48458174e-02]\n",
      " [8.62732111e-05 0.00000000e+00 0.00000000e+00 1.19378486e-02]\n",
      " [5.23713133e-01 2.72853070e-01 3.38677816e-01 2.54106682e-01]\n",
      " [0.00000000e+00 0.00000000e+00 0.00000000e+00 0.00000000e+00]\n",
      " [2.53620385e-01 1.12412000e-01 1.61403316e-01 5.02370876e-02]\n",
      " [0.00000000e+00 0.00000000e+00 0.00000000e+00 0.00000000e+00]\n",
      " [2.56091629e-01 2.65116481e-01 3.40409251e-01 5.58795911e-01]\n",
      " [4.18043587e-01 6.09951034e-01 3.72485511e-01 3.40674928e-01]\n",
      " [5.51787993e-01 4.02717260e-01 2.64991131e-01 2.69115599e-01]\n",
      " [0.00000000e+00 0.00000000e+00 0.00000000e+00 0.00000000e+00]\n",
      " [0.00000000e+00 0.00000000e+00 0.00000000e+00 0.00000000e+00]\n",
      " [2.13003060e-01 3.33324066e-01 7.51965232e-01 3.99030127e-01]\n",
      " [4.71045661e-01 8.62752909e-01 6.79287163e-01 6.86458370e-01]\n",
      " [0.00000000e+00 0.00000000e+00 0.00000000e+00 0.00000000e+00]]\n"
     ]
    }
   ],
   "source": [
    "tic = time.time()\n",
    "Q_table = np.zeros((16,) + (env.action_space.n,))\n",
    "policy = np.zeros(16)\n",
    "reward_list = []\n",
    "plot_reward = []\n",
    "total_reward = 0\n",
    "consec = 0\n",
    "success = False\n",
    "for i in range(1, 30001):\n",
    "    lr = max(0.01, min(1.0, 1.0 - math.log10((i + 1) / 25)))\n",
    "    epsilon =  max(0.05, min(1, 1.0 - math.log10((i  + 1) / 25)))\n",
    "    current = env.reset()\n",
    "    done = False\n",
    "    while not done:\n",
    "        action = int(policy[current])\n",
    "        observation, reward, done, info = env.step(action) \n",
    "        next_state = observation\n",
    "        Q_table[current][action] += lr*(reward + Q_table[next_state][int(policy[next_state])] - Q_table[current][action])\n",
    "\n",
    "        if np.random.random() <= epsilon:\n",
    "            policy[next_state] = env.action_space.sample()\n",
    "        else:\n",
    "            policy[next_state] = np.argmax(Q_table[next_state])\n",
    "        current = next_state\n",
    "        total_reward += reward\n",
    "        if done:\n",
    "            final_reward = reward\n",
    "    if final_reward == 1:\n",
    "        consec += 1\n",
    "    else:\n",
    "        consec = 0\n",
    "    if consec == 100:\n",
    "        toc = time.time()\n",
    "        success = True\n",
    "        print(f'Took {toc-tic:.2f} seconds and succeeded in {i} episodes')\n",
    "        break \n",
    "    total_reward = 0\n",
    "toc = time.time()\n",
    "if not success:\n",
    "    print(f'Took {toc-tic:.2f} seconds and failed')\n",
    "print(Q_table)"
   ]
  }
 ],
 "metadata": {
  "kernelspec": {
   "display_name": "Python 3",
   "language": "python",
   "name": "python3"
  },
  "language_info": {
   "codemirror_mode": {
    "name": "ipython",
    "version": 3
   },
   "file_extension": ".py",
   "mimetype": "text/x-python",
   "name": "python",
   "nbconvert_exporter": "python",
   "pygments_lexer": "ipython3",
   "version": "3.8.5"
  }
 },
 "nbformat": 4,
 "nbformat_minor": 4
}
