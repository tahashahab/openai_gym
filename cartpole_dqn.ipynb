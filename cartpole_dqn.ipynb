{
 "cells": [
  {
   "cell_type": "code",
   "execution_count": 76,
   "metadata": {},
   "outputs": [],
   "source": [
    "import gym\n",
    "import math\n",
    "import time\n",
    "import numpy as np\n",
    "import matplotlib.pyplot as plt\n",
    "import tensorflow as tf\n",
    "import seaborn as sns \n",
    "\n",
    "from tf_agents.agents.dqn import dqn_agent\n",
    "from tf_agents.drivers import dynamic_step_driver\n",
    "from tf_agents.environments import suite_gym, tf_py_environment\n",
    "from tf_agents.eval import metric_utils\n",
    "from tf_agents.metrics import tf_metrics\n",
    "from tf_agents.networks import sequential\n",
    "from tf_agents.policies import random_tf_policy\n",
    "from tf_agents.replay_buffers import tf_uniform_replay_buffer\n",
    "from tf_agents.trajectories import trajectory\n",
    "from tf_agents.specs import tensor_spec\n",
    "from tf_agents.utils import common"
   ]
  },
  {
   "cell_type": "code",
   "execution_count": 77,
   "metadata": {},
   "outputs": [],
   "source": [
    "num_iterations = 20000 \n",
    "\n",
    "initial_collect_steps = 100  \n",
    "collect_steps_per_iteration = 1  \n",
    "replay_buffer_max_length = 100000  \n",
    "\n",
    "batch_size = 64  \n",
    "learning_rate = 1e-3\n",
    "log_interval = 200  \n",
    "\n",
    "num_eval_episodes = 10  \n",
    "eval_interval = 1000  "
   ]
  },
  {
   "cell_type": "code",
   "execution_count": 78,
   "metadata": {},
   "outputs": [],
   "source": [
    "env = suite_gym.load('CartPole-v1')"
   ]
  },
  {
   "cell_type": "code",
   "execution_count": 79,
   "metadata": {},
   "outputs": [
    {
     "name": "stdout",
     "output_type": "stream",
     "text": [
      "Time step:\n",
      "TimeStep(step_type=array(0), reward=array(0., dtype=float32), discount=array(1., dtype=float32), observation=array([-0.01841126, -0.02973313, -0.00218904,  0.04342841], dtype=float32))\n",
      "Next time step:\n",
      "TimeStep(step_type=array(1), reward=array(1., dtype=float32), discount=array(1., dtype=float32), observation=array([-0.01900592,  0.16542014, -0.00132047, -0.24994437], dtype=float32))\n"
     ]
    }
   ],
   "source": [
    "time_step = env.reset()\n",
    "print('Time step:')\n",
    "print(time_step)\n",
    "\n",
    "action = np.array(1, dtype=np.int32)\n",
    "\n",
    "next_time_step = env.step(action)\n",
    "print('Next time step:')\n",
    "print(next_time_step)"
   ]
  },
  {
   "cell_type": "code",
   "execution_count": 80,
   "metadata": {},
   "outputs": [],
   "source": [
    "train_py_env = suite_gym.load('CartPole-v1')\n",
    "eval_py_env = suite_gym.load('CartPole-v1')"
   ]
  },
  {
   "cell_type": "code",
   "execution_count": 81,
   "metadata": {},
   "outputs": [],
   "source": [
    "train_env = tf_py_environment.TFPyEnvironment(train_py_env)\n",
    "eval_env = tf_py_environment.TFPyEnvironment(eval_py_env)"
   ]
  },
  {
   "cell_type": "code",
   "execution_count": 86,
   "metadata": {},
   "outputs": [],
   "source": [
    "fc_layer_params = (100, 50)\n",
    "action_tensor_spec = tensor_spec.from_spec(env.action_spec())\n",
    "num_actions = action_tensor_spec.maximum - action_tensor_spec.minimum + 1\n",
    "\n",
    "def dense_layer(num_units):\n",
    "    return tf.keras.layers.Dense(num_units, \n",
    "                                 activation=tf.keras.activations.relu, \n",
    "                                 kernel_initializer=tf.keras.initializers.VarianceScaling(scale=2.0, mode='fan_in', distribution='truncated_normal'))\n",
    "\n",
    "dense_layers = [dense_layer(num_units) for num_units in fc_layer_params]\n",
    "\n",
    "q_values_layer = tf.keras.layers.Dense(num_actions, \n",
    "                                       activation=None, \n",
    "                                       kernel_initializer=tf.keras.initializers.RandomUniform(minval=-0.03, maxval=0.03),\n",
    "                                       bias_initializer=tf.keras.initializers.Constant(-0.2))\n",
    "\n",
    "q_net = sequential.Sequential(dense_layers + [q_values_layer])"
   ]
  },
  {
   "cell_type": "code",
   "execution_count": 30,
   "metadata": {},
   "outputs": [],
   "source": [
    "optimizer = tf.keras.optimizers.Adam(learning_rate=learning_rate)\n",
    "\n",
    "train_step_counter = tf.Variable(0)\n",
    "\n",
    "agent = dqn_agent.DqnAgent(\n",
    "    train_env.time_step_spec(),\n",
    "    train_env.action_spec(),\n",
    "    q_network=q_net,\n",
    "    optimizer=optimizer,\n",
    "    td_errors_loss_fn=common.element_wise_squared_loss,\n",
    "    train_step_counter=train_step_counter)\n",
    "\n",
    "agent.initialize()"
   ]
  },
  {
   "cell_type": "code",
   "execution_count": 31,
   "metadata": {},
   "outputs": [],
   "source": [
    "eval_policy = agent.policy\n",
    "collect_policy = agent.collect_policy"
   ]
  },
  {
   "cell_type": "code",
   "execution_count": 32,
   "metadata": {},
   "outputs": [],
   "source": [
    "random_policy = random_tf_policy.RandomTFPolicy(train_env.time_step_spec(),\n",
    "                                                train_env.action_spec())"
   ]
  },
  {
   "cell_type": "code",
   "execution_count": 33,
   "metadata": {},
   "outputs": [],
   "source": [
    "example_environment = tf_py_environment.TFPyEnvironment(suite_gym.load('CartPole-v1'))"
   ]
  },
  {
   "cell_type": "code",
   "execution_count": 34,
   "metadata": {},
   "outputs": [],
   "source": [
    "time_step = example_environment.reset()"
   ]
  },
  {
   "cell_type": "code",
   "execution_count": 35,
   "metadata": {},
   "outputs": [
    {
     "data": {
      "text/plain": [
       "PolicyStep(action=<tf.Tensor: shape=(1,), dtype=int64, numpy=array([0], dtype=int64)>, state=(), info=())"
      ]
     },
     "execution_count": 35,
     "metadata": {},
     "output_type": "execute_result"
    }
   ],
   "source": [
    "random_policy.action(time_step)"
   ]
  },
  {
   "cell_type": "code",
   "execution_count": 36,
   "metadata": {},
   "outputs": [],
   "source": [
    "def compute_avg_return(environment, policy, num_episodes=10):\n",
    "\n",
    "    total_return = 0.0\n",
    "    for _ in range(num_episodes):\n",
    "\n",
    "    time_step = environment.reset()\n",
    "    episode_return = 0.0\n",
    "\n",
    "    while not time_step.is_last():\n",
    "        action_step = policy.action(time_step)\n",
    "        time_step = environment.step(action_step.action)\n",
    "        episode_return += time_step.reward\n",
    "    total_return += episode_return\n",
    "\n",
    "    avg_return = total_return / num_episodes\n",
    "    return avg_return.numpy()[0]"
   ]
  },
  {
   "cell_type": "code",
   "execution_count": 37,
   "metadata": {},
   "outputs": [
    {
     "data": {
      "text/plain": [
       "24.7"
      ]
     },
     "execution_count": 37,
     "metadata": {},
     "output_type": "execute_result"
    }
   ],
   "source": [
    "compute_avg_return(eval_env, random_policy, num_eval_episodes)"
   ]
  },
  {
   "cell_type": "code",
   "execution_count": 38,
   "metadata": {},
   "outputs": [],
   "source": [
    "replay_buffer = tf_uniform_replay_buffer.TFUniformReplayBuffer(\n",
    "    data_spec=agent.collect_data_spec,\n",
    "    batch_size=train_env.batch_size,\n",
    "    max_length=replay_buffer_max_length)"
   ]
  },
  {
   "cell_type": "code",
   "execution_count": 39,
   "metadata": {},
   "outputs": [
    {
     "data": {
      "text/plain": [
       "Trajectory(step_type=TensorSpec(shape=(), dtype=tf.int32, name='step_type'), observation=BoundedTensorSpec(shape=(4,), dtype=tf.float32, name='observation', minimum=array([-4.8000002e+00, -3.4028235e+38, -4.1887903e-01, -3.4028235e+38],\n",
       "      dtype=float32), maximum=array([4.8000002e+00, 3.4028235e+38, 4.1887903e-01, 3.4028235e+38],\n",
       "      dtype=float32)), action=BoundedTensorSpec(shape=(), dtype=tf.int64, name='action', minimum=array(0, dtype=int64), maximum=array(1, dtype=int64)), policy_info=(), next_step_type=TensorSpec(shape=(), dtype=tf.int32, name='step_type'), reward=TensorSpec(shape=(), dtype=tf.float32, name='reward'), discount=BoundedTensorSpec(shape=(), dtype=tf.float32, name='discount', minimum=array(0., dtype=float32), maximum=array(1., dtype=float32)))"
      ]
     },
     "execution_count": 39,
     "metadata": {},
     "output_type": "execute_result"
    }
   ],
   "source": [
    "agent.collect_data_spec"
   ]
  },
  {
   "cell_type": "code",
   "execution_count": 40,
   "metadata": {},
   "outputs": [
    {
     "data": {
      "text/plain": [
       "('step_type',\n",
       " 'observation',\n",
       " 'action',\n",
       " 'policy_info',\n",
       " 'next_step_type',\n",
       " 'reward',\n",
       " 'discount')"
      ]
     },
     "execution_count": 40,
     "metadata": {},
     "output_type": "execute_result"
    }
   ],
   "source": [
    "agent.collect_data_spec._fields"
   ]
  },
  {
   "cell_type": "code",
   "execution_count": 41,
   "metadata": {},
   "outputs": [],
   "source": [
    "def collect_step(environment, policy, buffer):\n",
    "    time_step = environment.current_time_step()\n",
    "    action_step = policy.action(time_step)\n",
    "    next_time_step = environment.step(action_step.action)\n",
    "    traj = trajectory.from_transition(time_step, action_step, next_time_step)\n",
    "\n",
    "    buffer.add_batch(traj)\n",
    "\n",
    "def collect_data(env, policy, buffer, steps):\n",
    "    for _ in range(steps):\n",
    "        collect_step(env, policy, buffer)\n",
    "\n",
    "collect_data(train_env, random_policy, replay_buffer, initial_collect_steps) "
   ]
  },
  {
   "cell_type": "code",
   "execution_count": 42,
   "metadata": {},
   "outputs": [
    {
     "data": {
      "text/plain": [
       "<PrefetchDataset shapes: (Trajectory(step_type=(64, 2), observation=(64, 2, 4), action=(64, 2), policy_info=(), next_step_type=(64, 2), reward=(64, 2), discount=(64, 2)), BufferInfo(ids=(64, 2), probabilities=(64,))), types: (Trajectory(step_type=tf.int32, observation=tf.float32, action=tf.int64, policy_info=(), next_step_type=tf.int32, reward=tf.float32, discount=tf.float32), BufferInfo(ids=tf.int64, probabilities=tf.float32))>"
      ]
     },
     "execution_count": 42,
     "metadata": {},
     "output_type": "execute_result"
    }
   ],
   "source": [
    "dataset = replay_buffer.as_dataset(\n",
    "    num_parallel_calls=3, \n",
    "    sample_batch_size=batch_size, \n",
    "    num_steps=2).prefetch(3)\n",
    "\n",
    "dataset"
   ]
  },
  {
   "cell_type": "code",
   "execution_count": 43,
   "metadata": {},
   "outputs": [
    {
     "name": "stdout",
     "output_type": "stream",
     "text": [
      "<tensorflow.python.data.ops.iterator_ops.OwnedIterator object at 0x00000228716B2D90>\n"
     ]
    }
   ],
   "source": [
    "iterator = iter(dataset)\n",
    "print(iterator)"
   ]
  },
  {
   "cell_type": "code",
   "execution_count": 44,
   "metadata": {},
   "outputs": [
    {
     "name": "stdout",
     "output_type": "stream",
     "text": [
      "step = 200: loss = 87.09430694580078\n",
      "step = 400: loss = 5.130100250244141\n",
      "step = 600: loss = 1.663902759552002\n",
      "step = 800: loss = 5.672111511230469\n",
      "step = 1000: loss = 12.319089889526367\n",
      "step = 1000: Average Return = 82.80000305175781\n",
      "step = 1200: loss = 135.8038330078125\n",
      "step = 1400: loss = 18.9317626953125\n",
      "step = 1600: loss = 777.6038818359375\n",
      "step = 1800: loss = 53.47575378417969\n",
      "step = 2000: loss = 74.03176879882812\n",
      "step = 2000: Average Return = 288.5\n",
      "step = 2200: loss = 87.7959976196289\n",
      "step = 2400: loss = 887.3899536132812\n",
      "step = 2600: loss = 122.4480972290039\n",
      "step = 2800: loss = 326.39959716796875\n",
      "step = 3000: loss = 3308.8564453125\n",
      "step = 3000: Average Return = 292.3999938964844\n",
      "step = 3200: loss = 329.25213623046875\n",
      "step = 3400: loss = 24189.96875\n",
      "step = 3600: loss = 322.06317138671875\n",
      "step = 3800: loss = 624.6636962890625\n",
      "step = 4000: loss = 686.4808349609375\n",
      "step = 4000: Average Return = 377.79998779296875\n",
      "step = 4200: loss = 1565.2840576171875\n",
      "step = 4400: loss = 737.564697265625\n",
      "step = 4600: loss = 3147.814453125\n",
      "step = 4800: loss = 1532.899658203125\n",
      "step = 5000: loss = 2001.87548828125\n",
      "step = 5000: Average Return = 500.0\n",
      "step = 5200: loss = 1069.7882080078125\n",
      "step = 5400: loss = 18910.572265625\n",
      "step = 5600: loss = 2224.92724609375\n",
      "step = 5800: loss = 41264.53125\n",
      "step = 6000: loss = 927.1328125\n",
      "step = 6000: Average Return = 205.89999389648438\n",
      "step = 6200: loss = 1087.850341796875\n",
      "step = 6400: loss = 807.3443603515625\n",
      "step = 6600: loss = 560.2078857421875\n",
      "step = 6800: loss = 570.302978515625\n",
      "step = 7000: loss = 74747.078125\n",
      "step = 7000: Average Return = 463.8999938964844\n",
      "step = 7200: loss = 3564.546630859375\n",
      "step = 7400: loss = 1914.7236328125\n",
      "step = 7600: loss = 1074.3922119140625\n",
      "step = 7800: loss = 504.44769287109375\n",
      "step = 8000: loss = 595.8773193359375\n",
      "step = 8000: Average Return = 408.6000061035156\n",
      "step = 8200: loss = 6862.36865234375\n",
      "step = 8400: loss = 709.9801025390625\n",
      "step = 8600: loss = 905.70751953125\n",
      "step = 8800: loss = 3265.47314453125\n",
      "step = 9000: loss = 1045.2498779296875\n",
      "step = 9000: Average Return = 274.79998779296875\n",
      "step = 9200: loss = 1017.4879760742188\n",
      "step = 9400: loss = 1566.497314453125\n",
      "step = 9600: loss = 772.3851318359375\n",
      "step = 9800: loss = 4756.7880859375\n",
      "step = 10000: loss = 1701.2017822265625\n",
      "step = 10000: Average Return = 348.20001220703125\n",
      "step = 10200: loss = 20600.462890625\n",
      "step = 10400: loss = 3514.86279296875\n",
      "step = 10600: loss = 24126.52734375\n",
      "step = 10800: loss = 2099.536376953125\n",
      "step = 11000: loss = 2638.805419921875\n",
      "step = 11000: Average Return = 202.8000030517578\n",
      "step = 11200: loss = 1835.865234375\n",
      "step = 11400: loss = 1047.740234375\n",
      "step = 11600: loss = 6371.31494140625\n",
      "step = 11800: loss = 1873.0177001953125\n",
      "step = 12000: loss = 1037.816162109375\n",
      "step = 12000: Average Return = 212.0\n",
      "step = 12200: loss = 954.1966552734375\n",
      "step = 12400: loss = 991.323486328125\n",
      "step = 12600: loss = 47938.53515625\n",
      "step = 12800: loss = 280961.125\n",
      "step = 13000: loss = 9566981.0\n",
      "step = 13000: Average Return = 124.19999694824219\n",
      "step = 13200: loss = 104074.8125\n",
      "step = 13400: loss = 228946.21875\n",
      "step = 13600: loss = 2637475.5\n",
      "step = 13800: loss = 181480.703125\n",
      "step = 14000: loss = 207761.53125\n",
      "step = 14000: Average Return = 486.0\n",
      "step = 14200: loss = 216372.875\n",
      "step = 14400: loss = 350365.1875\n",
      "step = 14600: loss = 331048.875\n",
      "step = 14800: loss = 119353.671875\n",
      "step = 15000: loss = 411909.5\n",
      "step = 15000: Average Return = 490.20001220703125\n",
      "step = 15200: loss = 322603.8125\n",
      "step = 15400: loss = 109755.234375\n",
      "step = 15600: loss = 183804.046875\n",
      "step = 15800: loss = 259485.953125\n",
      "step = 16000: loss = 402205.0625\n",
      "step = 16000: Average Return = 500.0\n",
      "step = 16200: loss = 283379.78125\n",
      "step = 16400: loss = 203441.8125\n",
      "step = 16600: loss = 220026.0625\n",
      "step = 16800: loss = 251888.625\n",
      "step = 17000: loss = 350791.34375\n",
      "step = 17000: Average Return = 489.3999938964844\n",
      "step = 17200: loss = 106220.0703125\n",
      "step = 17400: loss = 95805.0625\n",
      "step = 17600: loss = 163518.09375\n",
      "step = 17800: loss = 252065.1875\n",
      "step = 18000: loss = 269605.84375\n",
      "step = 18000: Average Return = 385.3999938964844\n",
      "step = 18200: loss = 155514.90625\n",
      "step = 18400: loss = 108050.296875\n",
      "step = 18600: loss = 111069.125\n",
      "step = 18800: loss = 71977.03125\n",
      "step = 19000: loss = 247046.859375\n",
      "step = 19000: Average Return = 321.8999938964844\n",
      "step = 19200: loss = 127702.1953125\n",
      "step = 19400: loss = 93644.984375\n",
      "step = 19600: loss = 177173.375\n",
      "step = 19800: loss = 101998.8046875\n",
      "step = 20000: loss = 72534.828125\n",
      "step = 20000: Average Return = 500.0\n"
     ]
    }
   ],
   "source": [
    "try:\n",
    "    %%time\n",
    "except:\n",
    "    pass\n",
    "\n",
    "# (Optional) Optimize by wrapping some of the code in a graph using TF function.\n",
    "agent.train = common.function(agent.train)\n",
    "\n",
    "# Reset the train step\n",
    "agent.train_step_counter.assign(0)\n",
    "\n",
    "# Evaluate the agent's policy once before training.\n",
    "avg_return = compute_avg_return(eval_env, agent.policy, num_eval_episodes)\n",
    "returns = [avg_return]\n",
    "\n",
    "for _ in range(num_iterations):\n",
    "\n",
    "  # Collect a few steps using collect_policy and save to the replay buffer.\n",
    "    collect_data(train_env, agent.collect_policy, replay_buffer, collect_steps_per_iteration)\n",
    "\n",
    "  # Sample a batch of data from the buffer and update the agent's network.\n",
    "    experience, unused_info = next(iterator)\n",
    "    train_loss = agent.train(experience).loss\n",
    "\n",
    "    step = agent.train_step_counter.numpy()\n",
    "\n",
    "    if step % log_interval == 0:\n",
    "        print('step = {0}: loss = {1}'.format(step, train_loss))\n",
    "\n",
    "    if step % eval_interval == 0:\n",
    "        avg_return = compute_avg_return(eval_env, agent.policy, num_eval_episodes)\n",
    "        print('step = {0}: Average Return = {1}'.format(step, avg_return))\n",
    "        returns.append(avg_return)"
   ]
  },
  {
   "cell_type": "code",
   "execution_count": 75,
   "metadata": {},
   "outputs": [
    {
     "data": {
      "text/plain": [
       "(22.14500160217285, 505.0)"
      ]
     },
     "execution_count": 75,
     "metadata": {},
     "output_type": "execute_result"
    },
    {
     "data": {
      "image/png": "[encoded data removed]",
      "text/plain": [
       "<Figure size 720x576 with 1 Axes>"
      ]
     },
     "metadata": {},
     "output_type": "display_data"
    }
   ],
   "source": [
    "# The red line is the mean of the returns\n",
    "plt.style.use('seaborn-darkgrid')\n",
    "plt.subplots(figsize=(10,8))\n",
    "plt.plot(range(0, num_iterations + 1, eval_interval), returns)\n",
    "plt.axhline(y=np.mean(returns), color='r', ls='--')\n",
    "plt.title('Average Return over 20,000 Episodes', size=17.5)\n",
    "plt.ylabel('Average Return', size=15)\n",
    "plt.xlabel('Episodes', size=15)\n",
    "plt.ylim(top=505)"
   ]
  },
  {
   "cell_type": "code",
   "execution_count": null,
   "metadata": {},
   "outputs": [],
   "source": []
  }
 ],
 "metadata": {
  "kernelspec": {
   "display_name": "Python 3",
   "language": "python",
   "name": "python3"
  },
  "language_info": {
   "codemirror_mode": {
    "name": "ipython",
    "version": 3
   },
   "file_extension": ".py",
   "mimetype": "text/x-python",
   "name": "python",
   "nbconvert_exporter": "python",
   "pygments_lexer": "ipython3",
   "version": "3.8.5"
  }
 },
 "nbformat": 4,
 "nbformat_minor": 4
}
