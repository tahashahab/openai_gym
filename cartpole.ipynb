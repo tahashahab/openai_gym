{
 "cells": [
  {
   "cell_type": "code",
   "execution_count": 54,
   "metadata": {},
   "outputs": [],
   "source": [
    "import gym\n",
    "import math\n",
    "import time\n",
    "import numpy as np\n",
    "from IPython.display import Image\n",
    "from sklearn.preprocessing import KBinsDiscretizer\n",
    "from typing import Tuple\n",
    "np.random.seed(0)"
   ]
  },
  {
   "cell_type": "code",
   "execution_count": 15,
   "metadata": {
    "collapsed": true,
    "jupyter": {
     "outputs_hidden": true
    }
   },
   "outputs": [
    {
     "data": {
      "text/plain": [
       "\u001b[1;31mType:\u001b[0m        CartPoleEnv\n",
       "\u001b[1;31mString form:\u001b[0m <CartPoleEnv<CartPole-v1>>\n",
       "\u001b[1;31mFile:\u001b[0m        c:\\users\\taha\\anaconda3\\lib\\site-packages\\gym\\envs\\classic_control\\cartpole.py\n",
       "\u001b[1;31mDocstring:\u001b[0m  \n",
       "Description:\n",
       "    A pole is attached by an un-actuated joint to a cart, which moves along\n",
       "    a frictionless track. The pendulum starts upright, and the goal is to\n",
       "    prevent it from falling over by increasing and reducing the cart's\n",
       "    velocity.\n",
       "\n",
       "Source:\n",
       "    This environment corresponds to the version of the cart-pole problem\n",
       "    described by Barto, Sutton, and Anderson\n",
       "\n",
       "Observation:\n",
       "    Type: Box(4)\n",
       "    Num     Observation               Min                     Max\n",
       "    0       Cart Position             -4.8                    4.8\n",
       "    1       Cart Velocity             -Inf                    Inf\n",
       "    2       Pole Angle                -0.418 rad (-24 deg)    0.418 rad (24 deg)\n",
       "    3       Pole Angular Velocity     -Inf                    Inf\n",
       "\n",
       "Actions:\n",
       "    Type: Discrete(2)\n",
       "    Num   Action\n",
       "    0     Push cart to the left\n",
       "    1     Push cart to the right\n",
       "\n",
       "    Note: The amount the velocity that is reduced or increased is not\n",
       "    fixed; it depends on the angle the pole is pointing. This is because\n",
       "    the center of gravity of the pole increases the amount of energy needed\n",
       "    to move the cart underneath it\n",
       "\n",
       "Reward:\n",
       "    Reward is 1 for every step taken, including the termination step\n",
       "\n",
       "Starting State:\n",
       "    All observations are assigned a uniform random value in [-0.05..0.05]\n",
       "\n",
       "Episode Termination:\n",
       "    Pole Angle is more than 12 degrees.\n",
       "    Cart Position is more than 2.4 (center of the cart reaches the edge of\n",
       "    the display).\n",
       "    Episode length is greater than 200.\n",
       "    Solved Requirements:\n",
       "    Considered solved when the average return is greater than or equal to\n",
       "    195.0 over 100 consecutive trials.\n"
      ]
     },
     "metadata": {},
     "output_type": "display_data"
    }
   ],
   "source": [
    "?env.env"
   ]
  },
  {
   "cell_type": "markdown",
   "metadata": {},
   "source": [
    "In this notebook all algorithms that I reference are from the textbook: Reinforcement Learning: An Introduction by Sutton and Barto."
   ]
  },
  {
   "cell_type": "markdown",
   "metadata": {},
   "source": [
    "https://github.com/openai/gym/wiki/CartPole-v0\n",
    "\n",
    "This link has all the information regarding the specifics of the CartPole environment, such as the action space, how rewards are disitributed, and what it means to solve this problem.\n",
    "\n",
    "Solved requirements: \"Considered solved when the average reward is greater than or equal to 195.0 over 100 consecutive trials.\" \n",
    "\n",
    "![title](C:\\Users\\Taha\\Documents\\Work\\RL Code & Practice\\ql.png)"
   ]
  },
  {
   "cell_type": "markdown",
   "metadata": {},
   "source": [
    "## Q-Learning\n",
    "\n",
    "We will first attempt to solve this problem with the Q-learning algorithm, which is an off-policy temporal difference control algorithm."
   ]
  },
  {
   "cell_type": "code",
   "execution_count": 140,
   "metadata": {},
   "outputs": [
    {
     "data": {
      "text/plain": [
       "[0]"
      ]
     },
     "execution_count": 140,
     "metadata": {},
     "output_type": "execute_result"
    }
   ],
   "source": [
    "# Create the environment with openai gym and set a seed to work in\n",
    "env = gym.make('CartPole-v1')\n",
    "env.seed(0)"
   ]
  },
  {
   "cell_type": "code",
   "execution_count": 174,
   "metadata": {},
   "outputs": [],
   "source": [
    "state_space = (1, 1, 6 , 12)\n",
    "lower_bounds = [env.observation_space.low[0], -0.5, env.observation_space.low[2], -math.radians(50)]\n",
    "upper_bounds = [env.observation_space.high[0], 0.5, env.observation_space.high[2], math.radians(50)]\n",
    "def discrete(s):\n",
    "    tiles = []\n",
    "    for i in range(len(s)):\n",
    "        scaling = (s[i] + abs(lower_bounds[i])) / (upper_bounds[i] - lower_bounds[i])\n",
    "        scaled_s = int(round((state_space[i] - 1) * scaling))\n",
    "        scaled_s = min(state_space[i] - 1, max(0, scaled_s))\n",
    "        tiles.append(scaled_s)\n",
    "    return tuple(tiles)"
   ]
  },
  {
   "cell_type": "code",
   "execution_count": 194,
   "metadata": {},
   "outputs": [],
   "source": [
    "state_space = (6 , 12)\n",
    "lower_bounds = [env.observation_space.low[2], -math.radians(50)]\n",
    "upper_bounds = [env.observation_space.high[2], math.radians(50)]\n",
    "\n",
    "def discretizer(_, __, angle, pole_velocity):\n",
    "    est = KBinsDiscretizer(n_bins=state_space, encode='ordinal', strategy='uniform')\n",
    "    est.fit([lower_bounds, upper_bounds])\n",
    "    return tuple(map(int,est.transform([[angle, pole_velocity]])[0]))"
   ]
  },
  {
   "cell_type": "code",
   "execution_count": 195,
   "metadata": {},
   "outputs": [
    {
     "data": {
      "text/plain": [
       "(6, 12, 2)"
      ]
     },
     "execution_count": 195,
     "metadata": {},
     "output_type": "execute_result"
    }
   ],
   "source": [
    "Q_table = np.zeros(state_space + (env.action_space.n,))\n",
    "Q_table.shape"
   ]
  },
  {
   "cell_type": "code",
   "execution_count": 196,
   "metadata": {},
   "outputs": [
    {
     "name": "stdout",
     "output_type": "stream",
     "text": [
      "28.6\n",
      "199.21\n",
      "Took 8.62 seconds and achieved average reward of 199.21 in 200 episodes\n",
      "[[[  0.           0.        ]\n",
      "  [  0.           0.        ]\n",
      "  [  0.           0.        ]\n",
      "  [  0.           0.        ]\n",
      "  [  0.           0.        ]\n",
      "  [  0.           0.        ]\n",
      "  [  0.           0.        ]\n",
      "  [  0.           0.        ]\n",
      "  [  0.           0.        ]\n",
      "  [  0.           0.        ]\n",
      "  [  0.           0.        ]\n",
      "  [  0.           0.        ]]\n",
      "\n",
      " [[104.20008834 111.27741248]\n",
      "  [ 71.48163902 106.87327771]\n",
      "  [ 67.94355213 106.42540857]\n",
      "  [ 41.62215394 100.44442793]\n",
      "  [ 43.61451518  95.54375652]\n",
      "  [ 24.56737402  79.58280282]\n",
      "  [  0.83133755  80.05350206]\n",
      "  [ 31.59545701  36.66123333]\n",
      "  [ 47.23839918   0.        ]\n",
      "  [ 23.01910275   0.        ]\n",
      "  [ 34.14212814   2.43113237]\n",
      "  [ 26.           0.        ]]\n",
      "\n",
      " [[303.19040285 183.04920616]\n",
      "  [305.91212328 220.7093263 ]\n",
      "  [325.84101826 244.74638333]\n",
      "  [330.08185611 264.04146952]\n",
      "  [328.81075064 303.85478055]\n",
      "  [332.21646468 323.29891961]\n",
      "  [328.09428816 315.06129111]\n",
      "  [302.90824637 331.66452912]\n",
      "  [294.1318174  328.12283491]\n",
      "  [187.90172374 313.49505928]\n",
      "  [124.86289058 297.16281026]\n",
      "  [ 66.91325968 206.21202166]]\n",
      "\n",
      " [[243.62492855 127.52034985]\n",
      "  [268.28597168  94.8451899 ]\n",
      "  [328.80258457 268.57566087]\n",
      "  [328.85945678 274.09583551]\n",
      "  [307.99700635 328.3337497 ]\n",
      "  [298.83530439 328.437066  ]\n",
      "  [305.24460881 327.59003641]\n",
      "  [216.85143032 323.13459326]\n",
      "  [240.76219843 322.57119263]\n",
      "  [137.75600835 303.03523968]\n",
      "  [153.63142732 309.33756145]\n",
      "  [117.53183626 256.93202909]]\n",
      "\n",
      " [[  0.           0.        ]\n",
      "  [  1.           0.        ]\n",
      "  [  2.           0.        ]\n",
      "  [  0.           1.        ]\n",
      "  [  0.           1.        ]\n",
      "  [ 28.40027537   1.        ]\n",
      "  [ 31.40453012   1.        ]\n",
      "  [  3.           0.        ]\n",
      "  [ 47.05691331   2.36368718]\n",
      "  [ 44.01262784  30.0282524 ]\n",
      "  [ 51.92769548  34.67149759]\n",
      "  [ 54.79922588  48.95651002]]\n",
      "\n",
      " [[  0.           0.        ]\n",
      "  [  0.           0.        ]\n",
      "  [  0.           0.        ]\n",
      "  [  0.           0.        ]\n",
      "  [  0.           0.        ]\n",
      "  [  0.           0.        ]\n",
      "  [  0.           0.        ]\n",
      "  [  0.           0.        ]\n",
      "  [  0.           0.        ]\n",
      "  [  0.           0.        ]\n",
      "  [  0.           0.        ]\n",
      "  [  0.           0.        ]]]\n"
     ]
    }
   ],
   "source": [
    "tic = time.time()\n",
    "Q_table = np.zeros(state_space + (env.action_space.n,))\n",
    "reward_list = []\n",
    "total_reward = 0\n",
    "success = False\n",
    "for i in range(1, 10001):\n",
    "    current, done = discretizer(*env.reset()), False\n",
    "    while not done:\n",
    "        lr = max(0.01, min(1.0, 1.0 - math.log10((i + 1) / 25)))\n",
    "        epsilon =  max(0.05, min(1, 1.0 - math.log10((i  + 1) / 25)))\n",
    "        if np.random.random() < epsilon:\n",
    "            action = env.action_space.sample()\n",
    "        else:\n",
    "            action = np.argmax(Q_table[current])\n",
    "        observation, reward, done, info = env.step(action) \n",
    "        next_state = discretizer(*observation)\n",
    "        Q_table[current][action] += lr*(reward + np.max(Q_table[next_state]) - Q_table[current][action])\n",
    "        current = next_state\n",
    "        total_reward += reward\n",
    "#        if i % 100:\n",
    "#            env.render()\n",
    "    if i % 100 == 0:\n",
    "        print(total_reward/100)\n",
    "        reward_list.append(total_reward/100)\n",
    "        if reward_list[-1] >= 195.0:\n",
    "            toc = time.time()\n",
    "            success = True\n",
    "            print(f'Took {toc-tic:.2f} seconds and achieved average reward of {reward_list[-1]} in {(reward_list.index(reward_list[-1]) + 1)*100} episodes')\n",
    "            env.close()\n",
    "            break\n",
    "        total_reward = 0\n",
    "toc = time.time()\n",
    "if not success:\n",
    "    print(f'Took {toc-tic:.2f} seconds and failed')\n",
    "    print(f'Max average reward achieved: {np.max(reward_list):.2f}')\n",
    "env.close()\n",
    "print(Q_table)"
   ]
  },
  {
   "cell_type": "markdown",
   "metadata": {},
   "source": [
    "## Sarsa"
   ]
  },
  {
   "cell_type": "code",
   "execution_count": 2,
   "metadata": {},
   "outputs": [
    {
     "data": {
      "text/plain": [
       "[0]"
      ]
     },
     "execution_count": 2,
     "metadata": {},
     "output_type": "execute_result"
    }
   ],
   "source": [
    "env = gym.make('CartPole-v1')\n",
    "env.seed(0)"
   ]
  },
  {
   "cell_type": "code",
   "execution_count": 46,
   "metadata": {
    "collapsed": true,
    "jupyter": {
     "outputs_hidden": true
    }
   },
   "outputs": [
    {
     "name": "stdout",
     "output_type": "stream",
     "text": [
      "32.57\n",
      "40.56\n",
      "48.98\n",
      "59.25\n",
      "60.62\n",
      "55.46\n",
      "63.61\n",
      "55.73\n",
      "64.43\n",
      "59.26\n",
      "55.03\n",
      "61.05\n",
      "58.78\n",
      "61.38\n",
      "59.42\n",
      "62.46\n",
      "58.86\n",
      "66.6\n",
      "60.44\n",
      "54.8\n",
      "59.68\n",
      "52.68\n",
      "55.56\n",
      "65.77\n",
      "55.28\n",
      "60.1\n",
      "66.38\n",
      "62.31\n",
      "61.0\n",
      "55.61\n",
      "53.92\n",
      "55.56\n",
      "58.76\n",
      "66.56\n",
      "58.04\n",
      "67.33\n",
      "56.27\n"
     ]
    },
    {
     "ename": "KeyboardInterrupt",
     "evalue": "",
     "output_type": "error",
     "traceback": [
      "\u001b[1;31m---------------------------------------------------------------------------\u001b[0m",
      "\u001b[1;31mKeyboardInterrupt\u001b[0m                         Traceback (most recent call last)",
      "\u001b[1;32m<ipython-input-46-9033613142b2>\u001b[0m in \u001b[0;36m<module>\u001b[1;34m\u001b[0m\n\u001b[0;32m      5\u001b[0m \u001b[0mtotal_reward\u001b[0m \u001b[1;33m=\u001b[0m \u001b[1;36m0\u001b[0m\u001b[1;33m\u001b[0m\u001b[1;33m\u001b[0m\u001b[0m\n\u001b[0;32m      6\u001b[0m \u001b[1;32mfor\u001b[0m \u001b[0mi\u001b[0m \u001b[1;32min\u001b[0m \u001b[0mrange\u001b[0m\u001b[1;33m(\u001b[0m\u001b[1;36m1\u001b[0m\u001b[1;33m,\u001b[0m \u001b[1;36m10001\u001b[0m\u001b[1;33m)\u001b[0m\u001b[1;33m:\u001b[0m\u001b[1;33m\u001b[0m\u001b[1;33m\u001b[0m\u001b[0m\n\u001b[1;32m----> 7\u001b[1;33m     \u001b[0mcurrent\u001b[0m\u001b[1;33m,\u001b[0m \u001b[0mdone\u001b[0m \u001b[1;33m=\u001b[0m \u001b[0mtest\u001b[0m\u001b[1;33m(\u001b[0m\u001b[0menv\u001b[0m\u001b[1;33m.\u001b[0m\u001b[0mreset\u001b[0m\u001b[1;33m(\u001b[0m\u001b[1;33m)\u001b[0m\u001b[1;33m)\u001b[0m\u001b[1;33m,\u001b[0m \u001b[1;32mFalse\u001b[0m\u001b[1;33m\u001b[0m\u001b[1;33m\u001b[0m\u001b[0m\n\u001b[0m\u001b[0;32m      8\u001b[0m     \u001b[1;32mwhile\u001b[0m \u001b[1;32mnot\u001b[0m \u001b[0mdone\u001b[0m\u001b[1;33m:\u001b[0m\u001b[1;33m\u001b[0m\u001b[1;33m\u001b[0m\u001b[0m\n\u001b[0;32m      9\u001b[0m         \u001b[0mlr\u001b[0m \u001b[1;33m=\u001b[0m \u001b[0mmax\u001b[0m\u001b[1;33m(\u001b[0m\u001b[1;36m0.01\u001b[0m\u001b[1;33m,\u001b[0m \u001b[0mmin\u001b[0m\u001b[1;33m(\u001b[0m\u001b[1;36m1.0\u001b[0m\u001b[1;33m,\u001b[0m \u001b[1;36m1.0\u001b[0m \u001b[1;33m-\u001b[0m \u001b[0mmath\u001b[0m\u001b[1;33m.\u001b[0m\u001b[0mlog10\u001b[0m\u001b[1;33m(\u001b[0m\u001b[1;33m(\u001b[0m\u001b[0mi\u001b[0m \u001b[1;33m+\u001b[0m \u001b[1;36m1\u001b[0m\u001b[1;33m)\u001b[0m \u001b[1;33m/\u001b[0m \u001b[1;36m25\u001b[0m\u001b[1;33m)\u001b[0m\u001b[1;33m)\u001b[0m\u001b[1;33m)\u001b[0m\u001b[1;33m\u001b[0m\u001b[1;33m\u001b[0m\u001b[0m\n",
      "\u001b[1;32m~\\anaconda3\\lib\\site-packages\\gym\\wrappers\\time_limit.py\u001b[0m in \u001b[0;36mreset\u001b[1;34m(self, **kwargs)\u001b[0m\n\u001b[0;32m     23\u001b[0m     \u001b[1;32mdef\u001b[0m \u001b[0mreset\u001b[0m\u001b[1;33m(\u001b[0m\u001b[0mself\u001b[0m\u001b[1;33m,\u001b[0m \u001b[1;33m**\u001b[0m\u001b[0mkwargs\u001b[0m\u001b[1;33m)\u001b[0m\u001b[1;33m:\u001b[0m\u001b[1;33m\u001b[0m\u001b[1;33m\u001b[0m\u001b[0m\n\u001b[0;32m     24\u001b[0m         \u001b[0mself\u001b[0m\u001b[1;33m.\u001b[0m\u001b[0m_elapsed_steps\u001b[0m \u001b[1;33m=\u001b[0m \u001b[1;36m0\u001b[0m\u001b[1;33m\u001b[0m\u001b[1;33m\u001b[0m\u001b[0m\n\u001b[1;32m---> 25\u001b[1;33m         \u001b[1;32mreturn\u001b[0m \u001b[0mself\u001b[0m\u001b[1;33m.\u001b[0m\u001b[0menv\u001b[0m\u001b[1;33m.\u001b[0m\u001b[0mreset\u001b[0m\u001b[1;33m(\u001b[0m\u001b[1;33m**\u001b[0m\u001b[0mkwargs\u001b[0m\u001b[1;33m)\u001b[0m\u001b[1;33m\u001b[0m\u001b[1;33m\u001b[0m\u001b[0m\n\u001b[0m",
      "\u001b[1;32m~\\anaconda3\\lib\\site-packages\\gym\\envs\\classic_control\\cartpole.py\u001b[0m in \u001b[0;36mreset\u001b[1;34m(self)\u001b[0m\n\u001b[0;32m    157\u001b[0m         \u001b[0mself\u001b[0m\u001b[1;33m.\u001b[0m\u001b[0mstate\u001b[0m \u001b[1;33m=\u001b[0m \u001b[0mself\u001b[0m\u001b[1;33m.\u001b[0m\u001b[0mnp_random\u001b[0m\u001b[1;33m.\u001b[0m\u001b[0muniform\u001b[0m\u001b[1;33m(\u001b[0m\u001b[0mlow\u001b[0m\u001b[1;33m=\u001b[0m\u001b[1;33m-\u001b[0m\u001b[1;36m0.05\u001b[0m\u001b[1;33m,\u001b[0m \u001b[0mhigh\u001b[0m\u001b[1;33m=\u001b[0m\u001b[1;36m0.05\u001b[0m\u001b[1;33m,\u001b[0m \u001b[0msize\u001b[0m\u001b[1;33m=\u001b[0m\u001b[1;33m(\u001b[0m\u001b[1;36m4\u001b[0m\u001b[1;33m,\u001b[0m\u001b[1;33m)\u001b[0m\u001b[1;33m)\u001b[0m\u001b[1;33m\u001b[0m\u001b[1;33m\u001b[0m\u001b[0m\n\u001b[0;32m    158\u001b[0m         \u001b[0mself\u001b[0m\u001b[1;33m.\u001b[0m\u001b[0msteps_beyond_done\u001b[0m \u001b[1;33m=\u001b[0m \u001b[1;32mNone\u001b[0m\u001b[1;33m\u001b[0m\u001b[1;33m\u001b[0m\u001b[0m\n\u001b[1;32m--> 159\u001b[1;33m         \u001b[1;32mreturn\u001b[0m \u001b[0mnp\u001b[0m\u001b[1;33m.\u001b[0m\u001b[0marray\u001b[0m\u001b[1;33m(\u001b[0m\u001b[0mself\u001b[0m\u001b[1;33m.\u001b[0m\u001b[0mstate\u001b[0m\u001b[1;33m)\u001b[0m\u001b[1;33m\u001b[0m\u001b[1;33m\u001b[0m\u001b[0m\n\u001b[0m\u001b[0;32m    160\u001b[0m \u001b[1;33m\u001b[0m\u001b[0m\n\u001b[0;32m    161\u001b[0m     \u001b[1;32mdef\u001b[0m \u001b[0mrender\u001b[0m\u001b[1;33m(\u001b[0m\u001b[0mself\u001b[0m\u001b[1;33m,\u001b[0m \u001b[0mmode\u001b[0m\u001b[1;33m=\u001b[0m\u001b[1;34m'human'\u001b[0m\u001b[1;33m)\u001b[0m\u001b[1;33m:\u001b[0m\u001b[1;33m\u001b[0m\u001b[1;33m\u001b[0m\u001b[0m\n",
      "\u001b[1;31mKeyboardInterrupt\u001b[0m: "
     ]
    }
   ],
   "source": [
    "tic = time.time()\n",
    "reward_list = []\n",
    "Q_table = np.zeros(n_bins + (env.action_space.n,))\n",
    "policy = np.zeros(n_bins)\n",
    "total_reward = 0\n",
    "for i in range(1, 10001):\n",
    "    current, done = test(env.reset()), False\n",
    "    while not done:\n",
    "        lr = max(0.01, min(1.0, 1.0 - math.log10((i + 1) / 25)))\n",
    "        epsilon =  max(0.05, min(1, 1.0 - math.log10((i + 1) / 25)))\n",
    "        action = int(policy[current])\n",
    "        observation, reward, done, info = env.step(action)\n",
    "        next_state = test(observation)\n",
    "        Q_table[current][action] += lr * (reward + Q_table[next_state][int(policy[next_state])] - Q_table[current][action])\n",
    "        current = next_state\n",
    "        if np.random.random() < epsilon:\n",
    "            policy[current] = env.action_space.sample()\n",
    "        else:\n",
    "            policy[current] = np.argmax(Q_table[current])\n",
    "        total_reward += reward\n",
    "    if i % 100 == 0:\n",
    "        reward_list.append(total_reward/100)\n",
    "        print(reward_list[-1])\n",
    "        if reward_list[-1] >= 195.0:\n",
    "            toc = time.time()\n",
    "            print(f'Took {toc-tic:.2f} seconds and achieved average reward of {reward_list[-1]} in {(reward_list.index(reward_list[-1]))*100} episodes')\n",
    "        total_reward = 0\n",
    "toc = time.time()\n",
    "if not success:\n",
    "    print(f'Took {toc-tic:.2f} seconds and failed')\n",
    "    print(f'Max average reward achieved: {np.max(reward_list):.2f}')\n",
    "env.close()"
   ]
  },
  {
   "cell_type": "markdown",
   "metadata": {},
   "source": [
    "## Double Q Learning"
   ]
  },
  {
   "cell_type": "code",
   "execution_count": 93,
   "metadata": {},
   "outputs": [
    {
     "name": "stdout",
     "output_type": "stream",
     "text": [
      "Took 173.85 seconds and failed\n",
      "Max average reward achieved: 46.95\n"
     ]
    }
   ],
   "source": [
    "tic = time.time()\n",
    "Q_table_1 = np.zeros(n_bins + (env.action_space.n,))\n",
    "Q_table_2 = np.zeros(n_bins + (env.action_space.n,))\n",
    "reward_list = []\n",
    "total_reward = 0\n",
    "success = False\n",
    "for i in range(1, 10001):\n",
    "    current, done = discretizer(*env.reset()), False\n",
    "    while not done:\n",
    "        lr = max(0.01, min(1.0, 1.0 - math.log10((i + 1) / 25)))\n",
    "        epsilon =  max(0.05, min(1, 1.0 - math.log10((i  + 1) / 25)))\n",
    "        action = np.argmax(Q_table_1[current] + Q_table_2[current])\n",
    "        if np.random.random() < epsilon:\n",
    "            action = env.action_space.sample()\n",
    "        observation, reward, done, info = env.step(action) \n",
    "        next_state = discretizer(*observation)\n",
    "        if np.random.random() <= 0.5:\n",
    "            Q_table_1[current][action] += lr*(reward + Q_table_2[next_state][np.argmax(Q_table_1[next_state])] - Q_table[current][action])\n",
    "        else:\n",
    "            Q_table_2[current][action] += lr*(reward + Q_table_1[next_state][np.argmax(Q_table_2[next_state])] - Q_table[current][action])\n",
    "        current = next_state\n",
    "        total_reward += reward\n",
    "#        if i % 100:\n",
    "#            env.render()\n",
    "    if i % 100 == 0:\n",
    "#        print(total_reward/100)\n",
    "        reward_list.append(total_reward/100)\n",
    "        if reward_list[-1] >= 195.0:\n",
    "            toc = time.time()\n",
    "            success = True\n",
    "            print(f'Took {toc-tic:.2f} seconds and achieved average reward of {reward_list[-1]} in {(reward_list.index(reward_list[-1]) + 1)*100} episodes')\n",
    "            env.close()\n",
    "            break\n",
    "        total_reward = 0\n",
    "toc = time.time()\n",
    "if not success:\n",
    "    print(f'Took {toc-tic:.2f} seconds and failed')\n",
    "    print(f'Max average reward achieved: {np.max(reward_list):.2f}')\n",
    "env.close()"
   ]
  },
  {
   "cell_type": "code",
   "execution_count": 237,
   "metadata": {},
   "outputs": [],
   "source": [
    "est = KBinsDiscretizer(n_bins=(3,10), encode='ordinal', strategy='uniform')\n",
    "est.fit([[2, 9], [6,10]])\n",
    "t = tuple(map(int,est.transform([[6,9]])[0]))"
   ]
  },
  {
   "cell_type": "code",
   "execution_count": 238,
   "metadata": {},
   "outputs": [
    {
     "data": {
      "text/plain": [
       "(2, 0)"
      ]
     },
     "execution_count": 238,
     "metadata": {},
     "output_type": "execute_result"
    }
   ],
   "source": [
    "t"
   ]
  },
  {
   "cell_type": "code",
   "execution_count": null,
   "metadata": {},
   "outputs": [],
   "source": []
  }
 ],
 "metadata": {
  "kernelspec": {
   "display_name": "Python 3",
   "language": "python",
   "name": "python3"
  },
  "language_info": {
   "codemirror_mode": {
    "name": "ipython",
    "version": 3
   },
   "file_extension": ".py",
   "mimetype": "text/x-python",
   "name": "python",
   "nbconvert_exporter": "python",
   "pygments_lexer": "ipython3",
   "version": "3.8.5"
  }
 },
 "nbformat": 4,
 "nbformat_minor": 4
}
