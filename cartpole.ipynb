{
 "cells": [
  {
   "cell_type": "code",
   "execution_count": 1,
   "metadata": {},
   "outputs": [],
   "source": [
    "import gym\n",
    "import math\n",
    "import time\n",
    "import numpy as np\n",
    "from sklearn.preprocessing import KBinsDiscretizer\n",
    "np.random.seed(0)"
   ]
  },
  {
   "cell_type": "code",
   "execution_count": 50,
   "metadata": {},
   "outputs": [
    {
     "data": {
      "text/plain": [
       "\u001b[1;31mType:\u001b[0m        CartPoleEnv\n",
       "\u001b[1;31mString form:\u001b[0m <CartPoleEnv<CartPole-v1>>\n",
       "\u001b[1;31mFile:\u001b[0m        c:\\users\\taha\\anaconda3\\lib\\site-packages\\gym\\envs\\classic_control\\cartpole.py\n",
       "\u001b[1;31mDocstring:\u001b[0m  \n",
       "Description:\n",
       "    A pole is attached by an un-actuated joint to a cart, which moves along\n",
       "    a frictionless track. The pendulum starts upright, and the goal is to\n",
       "    prevent it from falling over by increasing and reducing the cart's\n",
       "    velocity.\n",
       "\n",
       "Source:\n",
       "    This environment corresponds to the version of the cart-pole problem\n",
       "    described by Barto, Sutton, and Anderson\n",
       "\n",
       "Observation:\n",
       "    Type: Box(4)\n",
       "    Num     Observation               Min                     Max\n",
       "    0       Cart Position             -4.8                    4.8\n",
       "    1       Cart Velocity             -Inf                    Inf\n",
       "    2       Pole Angle                -0.418 rad (-24 deg)    0.418 rad (24 deg)\n",
       "    3       Pole Angular Velocity     -Inf                    Inf\n",
       "\n",
       "Actions:\n",
       "    Type: Discrete(2)\n",
       "    Num   Action\n",
       "    0     Push cart to the left\n",
       "    1     Push cart to the right\n",
       "\n",
       "    Note: The amount the velocity that is reduced or increased is not\n",
       "    fixed; it depends on the angle the pole is pointing. This is because\n",
       "    the center of gravity of the pole increases the amount of energy needed\n",
       "    to move the cart underneath it\n",
       "\n",
       "Reward:\n",
       "    Reward is 1 for every step taken, including the termination step\n",
       "\n",
       "Starting State:\n",
       "    All observations are assigned a uniform random value in [-0.05..0.05]\n",
       "\n",
       "Episode Termination:\n",
       "    Pole Angle is more than 12 degrees.\n",
       "    Cart Position is more than 2.4 (center of the cart reaches the edge of\n",
       "    the display).\n",
       "    Episode length is greater than 200.\n",
       "    Solved Requirements:\n",
       "    Considered solved when the average return is greater than or equal to\n",
       "    195.0 over 100 consecutive trials.\n"
      ]
     },
     "metadata": {},
     "output_type": "display_data"
    }
   ],
   "source": [
    "?env.env"
   ]
  },
  {
   "cell_type": "code",
   "execution_count": 17,
   "metadata": {},
   "outputs": [
    {
     "data": {
      "text/plain": [
       "[0]"
      ]
     },
     "execution_count": 17,
     "metadata": {},
     "output_type": "execute_result"
    }
   ],
   "source": [
    "# Create the environment with openai gym and set a seed to work in\n",
    "env = gym.make('CartPole-v1')\n",
    "env.seed(0)"
   ]
  },
  {
   "cell_type": "markdown",
   "metadata": {},
   "source": [
    "In this notebook all algorithms that I reference are from the textbook: Reinforcement Learning: An Introduction by Sutton and Barto."
   ]
  },
  {
   "cell_type": "markdown",
   "metadata": {},
   "source": [
    "https://github.com/openai/gym/wiki/CartPole-v0\n",
    "\n",
    "This link has all the information regarding the specifics of the CartPole environment, such as the action space, how rewards are disitributed, and what it means to solve this problem.\n",
    "\n",
    "Solved requirements: \"Considered solved when the average reward is greater than or equal to 195.0 over 100 consecutive trials.\" "
   ]
  },
  {
   "cell_type": "markdown",
   "metadata": {},
   "source": [
    "## Q-Learning\n",
    "\n",
    "We will first attempt to solve this problem with the Q-learning algorithm, which is an off-policy temporal difference control algorithm."
   ]
  },
  {
   "cell_type": "code",
   "execution_count": 24,
   "metadata": {},
   "outputs": [
    {
     "data": {
      "text/plain": [
       "[0]"
      ]
     },
     "execution_count": 24,
     "metadata": {},
     "output_type": "execute_result"
    }
   ],
   "source": [
    "# Create the environment with openai gym and set a seed to work in\n",
    "env = gym.make('CartPole-v1')\n",
    "env.seed(0)"
   ]
  },
  {
   "cell_type": "code",
   "execution_count": 137,
   "metadata": {},
   "outputs": [],
   "source": [
    "n_bins = (6, 12, 6 , 12)\n",
    "lower_bounds = [env.observation_space.low[0], env.observation_space.low[1], env.observation_space.low[2], env.observation_space.low[3]]\n",
    "upper_bounds = [env.observation_space.high[0], env.observation_space.high[1], env.observation_space.high[2], env.observation_space.high[3]]\n",
    "\n",
    "def discretizer(pos, cart_velocity, angle, pole_velocity):\n",
    "    est = KBinsDiscretizer(n_bins=n_bins, encode='ordinal', strategy='uniform')\n",
    "    est.fit([lower_bounds, upper_bounds])\n",
    "    return tuple(map(int,est.transform([[pos, cart_velocity, angle, pole_velocity]])[0]))"
   ]
  },
  {
   "cell_type": "code",
   "execution_count": 138,
   "metadata": {},
   "outputs": [
    {
     "data": {
      "text/plain": [
       "(6, 12, 6, 12, 2)"
      ]
     },
     "execution_count": 138,
     "metadata": {},
     "output_type": "execute_result"
    }
   ],
   "source": [
    "Q_table = np.zeros(n_bins + (env.action_space.n,))\n",
    "Q_table.shape"
   ]
  },
  {
   "cell_type": "code",
   "execution_count": 139,
   "metadata": {},
   "outputs": [
    {
     "name": "stdout",
     "output_type": "stream",
     "text": [
      "Took 113.08 seconds and failed\n",
      "Max average reward achieved: 30.84\n"
     ]
    }
   ],
   "source": [
    "tic = time.time()\n",
    "Q_table = np.zeros(n_bins + (env.action_space.n,))\n",
    "reward_list = []\n",
    "total_reward = 0\n",
    "success = False\n",
    "for i in range(1, 10001):\n",
    "    current = discretizer(*env.reset())\n",
    "    done = False\n",
    "    while not done:\n",
    "        lr = max(0.01, min(1.0, 1.0 - math.log10((i + 1) / 25)))\n",
    "        epsilon =  max(0.05, min(1, 1.0 - math.log10((i  + 1) / 25)))\n",
    "        action = np.argmax(Q_table[current])\n",
    "        if np.random.random() < epsilon:\n",
    "            action = env.action_space.sample()\n",
    "        observation, reward, done, info = env.step(action) \n",
    "        next_state = discretizer(*observation)\n",
    "        Q_table[current][action] += lr*(reward + np.max(Q_table[next_state]) - Q_table[current][action])\n",
    "        current = next_state\n",
    "        total_reward += reward\n",
    "    if i % 100 == 0:\n",
    "        reward_list.append(total_reward/100)\n",
    "        if reward_list[-1] >= 195.0:\n",
    "                toc = time.time()\n",
    "                success = True\n",
    "                print(f'Took {toc-tic:.2f} seconds and achieved average reward of {reward_list[-1]} in {(reward_list.index(reward_list[-1]))*100} episodes')\n",
    "                break\n",
    "        total_reward = 0\n",
    "toc = time.time()\n",
    "if not success:\n",
    "    print(f'Took {toc-tic:.2f} seconds and failed')\n",
    "    print(f'Max average reward achieved: {np.max(reward_list):.2f}')\n",
    "env.close()"
   ]
  },
  {
   "cell_type": "markdown",
   "metadata": {},
   "source": [
    "## Sarsa"
   ]
  },
  {
   "cell_type": "code",
   "execution_count": 2,
   "metadata": {},
   "outputs": [
    {
     "data": {
      "text/plain": [
       "[0]"
      ]
     },
     "execution_count": 2,
     "metadata": {},
     "output_type": "execute_result"
    }
   ],
   "source": [
    "env = gym.make('CartPole-v1')\n",
    "env.seed(0)"
   ]
  },
  {
   "cell_type": "code",
   "execution_count": 130,
   "metadata": {},
   "outputs": [
    {
     "ename": "SyntaxError",
     "evalue": "'return' outside function (<ipython-input-130-bb2cfbb5acfe>, line 27)",
     "output_type": "error",
     "traceback": [
      "\u001b[1;36m  File \u001b[1;32m\"<ipython-input-130-bb2cfbb5acfe>\"\u001b[1;36m, line \u001b[1;32m27\u001b[0m\n\u001b[1;33m    return f'Took {toc-tic:.2f} seconds and achieved average reward of {reward_list[first_avg_r]} in {(index(reward_list[-1])+1)*100} episodes'\u001b[0m\n\u001b[1;37m    ^\u001b[0m\n\u001b[1;31mSyntaxError\u001b[0m\u001b[1;31m:\u001b[0m 'return' outside function\n"
     ]
    }
   ],
   "source": [
    "tic = time.time()\n",
    "reward_list = []\n",
    "Q_table = np.zeros(n_bins + (env.action_space.n,))\n",
    "policy = np.zeros(n_bins)\n",
    "total_reward = 0\n",
    "for i in range(1, 10001):\n",
    "    current, done = discretizer(*env.reset()), False\n",
    "    while not done:\n",
    "        lr = max(0.01, min(1.0, 1.0 - math.log10((i + 1) / 25)))\n",
    "        epsilon =  max(0.05, min(1, 1.0 - math.log10((i + 1) / 25)))\n",
    "        action = int(policy[current])\n",
    "        observation, reward, done, info = env.step(action)\n",
    "        next_state = discretizer(*observation)\n",
    "        Q_table[current][action] += lr * (reward + Q_table[next_state][int(policy[next_state])] - Q_table[current][action])\n",
    "        current = next_state\n",
    "        if np.random.random() < epsilon:\n",
    "            policy[current] = env.action_space.sample()\n",
    "        else:\n",
    "            policy[current] = np.argmax(Q_table[current])\n",
    "        total_reward += reward\n",
    "    if i % 100 == 0:\n",
    "        reward_list.append(total_reward/100)\n",
    "        if reward_list[-1] >= 195.0:\n",
    "            toc = time.time()\n",
    "            print(f'Took {toc-tic:.2f} seconds and achieved average reward of {reward_list[-1]} in {(reward_list.index(reward_list[-1]))*100} episodes')\n",
    "        total_reward = 0\n",
    "toc = time.time()\n",
    "if not success:\n",
    "    print(f'Took {toc-tic:.2f} seconds and failed')\n",
    "    print(f'Max average reward achieved: {np.max(reward_list):.2f}')\n",
    "env.close()"
   ]
  },
  {
   "cell_type": "markdown",
   "metadata": {},
   "source": [
    "## TESTING"
   ]
  },
  {
   "cell_type": "code",
   "execution_count": 3,
   "metadata": {},
   "outputs": [],
   "source": [
    "n_bins = (6 , 12)\n",
    "lower_bounds = [env.observation_space.low[2], -math.radians(50)]\n",
    "upper_bounds = [env.observation_space.high[2], math.radians(50)]\n",
    "\n",
    "def discretizer(_, __, angle, pole_velocity):\n",
    "    est = KBinsDiscretizer(n_bins=n_bins, encode='ordinal', strategy='uniform')\n",
    "    est.fit([lower_bounds, upper_bounds])\n",
    "    return tuple(map(int,est.transform([[angle, pole_velocity]])[0]))"
   ]
  },
  {
   "cell_type": "code",
   "execution_count": null,
   "metadata": {},
   "outputs": [
    {
     "name": "stdout",
     "output_type": "stream",
     "text": [
      "37.26\n",
      "164.94\n"
     ]
    }
   ],
   "source": [
    "tic = time.time()\n",
    "Q_table = np.zeros(n_bins + (env.action_space.n,))\n",
    "reward_list = []\n",
    "total_reward = 0\n",
    "for i in range(1, 10001):\n",
    "    current, done = discretizer(*env.reset()), False\n",
    "    while not done:\n",
    "        lr = max(0.01, min(1.0, 1.0 - math.log10((i + 1) / 25)))\n",
    "        epsilon =  max(0.05, min(1, 1.0 - math.log10((i  + 1) / 25)))\n",
    "        action = np.argmax(Q_table[current])\n",
    "        if np.random.random() < epsilon:\n",
    "            action = env.action_space.sample()\n",
    "        observation, reward, done, info = env.step(action) \n",
    "        next_state = discretizer(*observation)\n",
    "        Q_table[current][action] += lr*(reward + np.max(Q_table[next_state]) - Q_table[current][action])\n",
    "        current = next_state\n",
    "        total_reward += reward\n",
    "        if i % 100:\n",
    "            env.render()\n",
    "    if i % 100 == 0:\n",
    "        print(total_reward/100)\n",
    "        reward_list.append(total_reward/100)\n",
    "        if reward_list[-1] >= 195.0:\n",
    "                toc = time.time()\n",
    "                success = True\n",
    "                print(f'Took {toc-tic:.2f} seconds and achieved average reward of {reward_list[-1]} in {(reward_list.index(reward_list[-1]) + 1)*100} episodes')\n",
    "                env.close()\n",
    "                break\n",
    "        total_reward = 0\n",
    "toc = time.time()\n",
    "if not success:\n",
    "    print(f'Took {toc-tic:.2f} seconds and failed')\n",
    "    print(f'Max average reward achieved: {np.max(reward_list):.2f}')\n",
    "env.close()"
   ]
  },
  {
   "cell_type": "code",
   "execution_count": 108,
   "metadata": {},
   "outputs": [
    {
     "data": {
      "text/plain": [
       "array([525.61625198, 504.92241404])"
      ]
     },
     "execution_count": 108,
     "metadata": {},
     "output_type": "execute_result"
    }
   ],
   "source": [
    "Q_table[discretizer(*env.reset())]"
   ]
  },
  {
   "cell_type": "code",
   "execution_count": null,
   "metadata": {},
   "outputs": [],
   "source": []
  }
 ],
 "metadata": {
  "kernelspec": {
   "display_name": "Python 3",
   "language": "python",
   "name": "python3"
  },
  "language_info": {
   "codemirror_mode": {
    "name": "ipython",
    "version": 3
   },
   "file_extension": ".py",
   "mimetype": "text/x-python",
   "name": "python",
   "nbconvert_exporter": "python",
   "pygments_lexer": "ipython3",
   "version": "3.8.5"
  }
 },
 "nbformat": 4,
 "nbformat_minor": 4
}
