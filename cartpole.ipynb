{
 "cells": [
  {
   "cell_type": "code",
   "execution_count": 54,
   "metadata": {},
   "outputs": [],
   "source": [
    "import gym\n",
    "import math\n",
    "import time\n",
    "import numpy as np\n",
    "from IPython.display import Image\n",
    "from sklearn.preprocessing import KBinsDiscretizer\n",
    "from typing import Tuple\n",
    "np.random.seed(0)"
   ]
  },
  {
   "cell_type": "code",
   "execution_count": 15,
   "metadata": {
    "collapsed": true,
    "jupyter": {
     "outputs_hidden": true
    }
   },
   "outputs": [
    {
     "data": {
      "text/plain": [
       "\u001b[1;31mType:\u001b[0m        CartPoleEnv\n",
       "\u001b[1;31mString form:\u001b[0m <CartPoleEnv<CartPole-v1>>\n",
       "\u001b[1;31mFile:\u001b[0m        c:\\users\\taha\\anaconda3\\lib\\site-packages\\gym\\envs\\classic_control\\cartpole.py\n",
       "\u001b[1;31mDocstring:\u001b[0m  \n",
       "Description:\n",
       "    A pole is attached by an un-actuated joint to a cart, which moves along\n",
       "    a frictionless track. The pendulum starts upright, and the goal is to\n",
       "    prevent it from falling over by increasing and reducing the cart's\n",
       "    velocity.\n",
       "\n",
       "Source:\n",
       "    This environment corresponds to the version of the cart-pole problem\n",
       "    described by Barto, Sutton, and Anderson\n",
       "\n",
       "Observation:\n",
       "    Type: Box(4)\n",
       "    Num     Observation               Min                     Max\n",
       "    0       Cart Position             -4.8                    4.8\n",
       "    1       Cart Velocity             -Inf                    Inf\n",
       "    2       Pole Angle                -0.418 rad (-24 deg)    0.418 rad (24 deg)\n",
       "    3       Pole Angular Velocity     -Inf                    Inf\n",
       "\n",
       "Actions:\n",
       "    Type: Discrete(2)\n",
       "    Num   Action\n",
       "    0     Push cart to the left\n",
       "    1     Push cart to the right\n",
       "\n",
       "    Note: The amount the velocity that is reduced or increased is not\n",
       "    fixed; it depends on the angle the pole is pointing. This is because\n",
       "    the center of gravity of the pole increases the amount of energy needed\n",
       "    to move the cart underneath it\n",
       "\n",
       "Reward:\n",
       "    Reward is 1 for every step taken, including the termination step\n",
       "\n",
       "Starting State:\n",
       "    All observations are assigned a uniform random value in [-0.05..0.05]\n",
       "\n",
       "Episode Termination:\n",
       "    Pole Angle is more than 12 degrees.\n",
       "    Cart Position is more than 2.4 (center of the cart reaches the edge of\n",
       "    the display).\n",
       "    Episode length is greater than 200.\n",
       "    Solved Requirements:\n",
       "    Considered solved when the average return is greater than or equal to\n",
       "    195.0 over 100 consecutive trials.\n"
      ]
     },
     "metadata": {},
     "output_type": "display_data"
    }
   ],
   "source": [
    "?env.env"
   ]
  },
  {
   "cell_type": "markdown",
   "metadata": {},
   "source": [
    "In this notebook all algorithms that I reference are from the textbook: Reinforcement Learning: An Introduction by Sutton and Barto."
   ]
  },
  {
   "cell_type": "markdown",
   "metadata": {},
   "source": [
    "https://github.com/openai/gym/wiki/CartPole-v0\n",
    "\n",
    "This link has all the information regarding the specifics of the CartPole environment, such as the action space, how rewards are disitributed, and what it means to solve this problem.\n",
    "\n",
    "Solved requirements: \"Considered solved when the average reward is greater than or equal to 195.0 over 100 consecutive trials.\" \n",
    "\n",
    "![title](C:\\Users\\Taha\\Documents\\Work\\RL Code & Practice\\ql.png)"
   ]
  },
  {
   "cell_type": "markdown",
   "metadata": {},
   "source": [
    "## Q-Learning\n",
    "\n",
    "We will first attempt to solve this problem with the Q-learning algorithm, which is an off-policy temporal difference control algorithm."
   ]
  },
  {
   "cell_type": "code",
   "execution_count": 140,
   "metadata": {},
   "outputs": [
    {
     "data": {
      "text/plain": [
       "[0]"
      ]
     },
     "execution_count": 140,
     "metadata": {},
     "output_type": "execute_result"
    }
   ],
   "source": [
    "# Create the environment with openai gym and set a seed to work in\n",
    "env = gym.make('CartPole-v1')\n",
    "env.seed(0)"
   ]
  },
  {
   "cell_type": "code",
   "execution_count": 174,
   "metadata": {},
   "outputs": [],
   "source": [
    "state_space = (1, 1, 6 , 12)\n",
    "lower_bounds = [env.observation_space.low[0], -0.5, env.observation_space.low[2], -math.radians(50)]\n",
    "upper_bounds = [env.observation_space.high[0], 0.5, env.observation_space.high[2], math.radians(50)]\n",
    "def discrete(s):\n",
    "    tiles = []\n",
    "    for i in range(len(s)):\n",
    "        scaling = (s[i] + abs(lower_bounds[i])) / (upper_bounds[i] - lower_bounds[i])\n",
    "        scaled_s = int(round((state_space[i] - 1) * scaling))\n",
    "        scaled_s = min(state_space[i] - 1, max(0, scaled_s))\n",
    "        tiles.append(scaled_s)\n",
    "    return tuple(tiles)"
   ]
  },
  {
   "cell_type": "code",
   "execution_count": 249,
   "metadata": {},
   "outputs": [],
   "source": [
    "state_space = (8 , 10)\n",
    "lower_bounds = [env.observation_space.low[2], -math.radians(50)]\n",
    "upper_bounds = [env.observation_space.high[2], math.radians(50)]\n",
    "\n",
    "def discretizer(_, __, angle, pole_velocity):\n",
    "    est = KBinsDiscretizer(n_bins=state_space, encode='ordinal', strategy='uniform')\n",
    "    est.fit([lower_bounds, upper_bounds])\n",
    "    return tuple(map(int,est.transform([[angle, pole_velocity]])[0]))"
   ]
  },
  {
   "cell_type": "code",
   "execution_count": 250,
   "metadata": {},
   "outputs": [
    {
     "data": {
      "text/plain": [
       "(8, 10, 2)"
      ]
     },
     "execution_count": 250,
     "metadata": {},
     "output_type": "execute_result"
    }
   ],
   "source": [
    "Q_table = np.zeros(state_space + (env.action_space.n,))\n",
    "Q_table.shape"
   ]
  },
  {
   "cell_type": "code",
   "execution_count": 253,
   "metadata": {},
   "outputs": [
    {
     "name": "stdout",
     "output_type": "stream",
     "text": [
      "37.69\n",
      "333.43\n",
      "Took 14.93 seconds and achieved average reward of 333.43 in 200 episodes\n",
      "[[[  0.           0.        ]\n",
      "  [  0.           0.        ]\n",
      "  [  0.           0.        ]\n",
      "  [  0.           0.        ]\n",
      "  [  0.           0.        ]\n",
      "  [  0.           0.        ]\n",
      "  [  0.           0.        ]\n",
      "  [  0.           0.        ]\n",
      "  [  0.           0.        ]\n",
      "  [  0.           0.        ]]\n",
      "\n",
      " [[  0.           0.        ]\n",
      "  [  0.           0.        ]\n",
      "  [  0.           0.        ]\n",
      "  [  0.           0.        ]\n",
      "  [  0.           0.        ]\n",
      "  [  0.           0.        ]\n",
      "  [  0.           0.        ]\n",
      "  [  0.           0.        ]\n",
      "  [  0.           0.        ]\n",
      "  [  0.           0.        ]]\n",
      "\n",
      " [[ 28.89929187  10.08371872]\n",
      "  [ 31.2267457   13.18121179]\n",
      "  [ 45.94824543  20.25788619]\n",
      "  [ 48.57702681  34.25839359]\n",
      "  [ 72.20568994  33.62411047]\n",
      "  [ 83.4862138   39.51815148]\n",
      "  [153.12051012  35.96323955]\n",
      "  [123.81227213  31.13606609]\n",
      "  [160.20928     19.44573128]\n",
      "  [211.14354578  15.68926563]]\n",
      "\n",
      " [[629.04135425 366.70556024]\n",
      "  [625.66519654 469.4589345 ]\n",
      "  [653.65387813 581.70319754]\n",
      "  [640.67427397 524.7666774 ]\n",
      "  [655.81500619 640.14504672]\n",
      "  [654.64165499 633.21437089]\n",
      "  [613.22962494 655.88978479]\n",
      "  [599.84332756 654.97109071]\n",
      "  [352.02967594 599.64863268]\n",
      "  [255.63866196 572.91779819]]\n",
      "\n",
      " [[566.09967716 307.59609203]\n",
      "  [603.92560488 346.86867005]\n",
      "  [655.67433341 597.90275621]\n",
      "  [651.20411052 613.54749162]\n",
      "  [638.52541742 655.70218712]\n",
      "  [642.2802654  655.277199  ]\n",
      "  [530.52534719 640.32094897]\n",
      "  [555.66391174 652.29079103]\n",
      "  [408.49771526 610.61072704]\n",
      "  [443.93249107 626.15221745]]\n",
      "\n",
      " [[224.13920899 155.80953522]\n",
      "  [219.07215211 163.5352535 ]\n",
      "  [ 87.32657939 246.69270777]\n",
      "  [109.63337861 267.86619662]\n",
      "  [105.29121103 250.17201836]\n",
      "  [ 81.33347829 181.20432647]\n",
      "  [ 89.94427644 155.27521363]\n",
      "  [ 55.30795764 119.22654191]\n",
      "  [ 39.72447302 108.21909434]\n",
      "  [ 33.71801259  86.77462443]]\n",
      "\n",
      " [[  0.           0.        ]\n",
      "  [  0.           0.        ]\n",
      "  [  0.           0.        ]\n",
      "  [  0.           0.        ]\n",
      "  [  0.           0.        ]\n",
      "  [  0.           0.        ]\n",
      "  [  0.           0.        ]\n",
      "  [  0.           0.        ]\n",
      "  [  0.           0.        ]\n",
      "  [  0.           0.        ]]\n",
      "\n",
      " [[  0.           0.        ]\n",
      "  [  0.           0.        ]\n",
      "  [  0.           0.        ]\n",
      "  [  0.           0.        ]\n",
      "  [  0.           0.        ]\n",
      "  [  0.           0.        ]\n",
      "  [  0.           0.        ]\n",
      "  [  0.           0.        ]\n",
      "  [  0.           0.        ]\n",
      "  [  0.           0.        ]]]\n"
     ]
    }
   ],
   "source": [
    "tic = time.time()\n",
    "Q_table = np.zeros(state_space + (env.action_space.n,))\n",
    "reward_list = []\n",
    "total_reward = 0\n",
    "success = False\n",
    "for i in range(1, 10001):\n",
    "    current, done = discretizer(*env.reset()), False\n",
    "    while not done:\n",
    "        lr = max(0.01, min(1.0, 1.0 - math.log10((i + 1) / 25)))\n",
    "        epsilon =  max(0.05, min(1, 1.0 - math.log10((i  + 1) / 25)))\n",
    "        if np.random.random() < epsilon:\n",
    "            action = env.action_space.sample()\n",
    "        else:\n",
    "            action = np.argmax(Q_table[current])\n",
    "        observation, reward, done, info = env.step(action) \n",
    "        next_state = discretizer(*observation)\n",
    "        Q_table[current][action] += lr*(reward + np.max(Q_table[next_state]) - Q_table[current][action])\n",
    "        current = next_state\n",
    "        total_reward += reward\n",
    "#        if i % 100:\n",
    "#            env.render()\n",
    "    if i % 100 == 0:\n",
    "        print(total_reward/100)\n",
    "        reward_list.append(total_reward/100)\n",
    "        if reward_list[-1] >= 195.0:\n",
    "            toc = time.time()\n",
    "            success = True\n",
    "            print(f'Took {toc-tic:.2f} seconds and achieved average reward of {reward_list[-1]} in {(reward_list.index(reward_list[-1]) + 1)*100} episodes')\n",
    "            env.close()\n",
    "            break\n",
    "        total_reward = 0\n",
    "toc = time.time()\n",
    "if not success:\n",
    "    print(f'Took {toc-tic:.2f} seconds and failed')\n",
    "    print(f'Max average reward achieved: {np.max(reward_list):.2f}')\n",
    "env.close()\n",
    "print(Q_table)"
   ]
  },
  {
   "cell_type": "markdown",
   "metadata": {},
   "source": [
    "## Sarsa"
   ]
  },
  {
   "cell_type": "code",
   "execution_count": 2,
   "metadata": {},
   "outputs": [
    {
     "data": {
      "text/plain": [
       "[0]"
      ]
     },
     "execution_count": 2,
     "metadata": {},
     "output_type": "execute_result"
    }
   ],
   "source": [
    "env = gym.make('CartPole-v1')\n",
    "env.seed(0)"
   ]
  },
  {
   "cell_type": "code",
   "execution_count": 46,
   "metadata": {
    "collapsed": true,
    "jupyter": {
     "outputs_hidden": true
    }
   },
   "outputs": [
    {
     "name": "stdout",
     "output_type": "stream",
     "text": [
      "32.57\n",
      "40.56\n",
      "48.98\n",
      "59.25\n",
      "60.62\n",
      "55.46\n",
      "63.61\n",
      "55.73\n",
      "64.43\n",
      "59.26\n",
      "55.03\n",
      "61.05\n",
      "58.78\n",
      "61.38\n",
      "59.42\n",
      "62.46\n",
      "58.86\n",
      "66.6\n",
      "60.44\n",
      "54.8\n",
      "59.68\n",
      "52.68\n",
      "55.56\n",
      "65.77\n",
      "55.28\n",
      "60.1\n",
      "66.38\n",
      "62.31\n",
      "61.0\n",
      "55.61\n",
      "53.92\n",
      "55.56\n",
      "58.76\n",
      "66.56\n",
      "58.04\n",
      "67.33\n",
      "56.27\n"
     ]
    },
    {
     "ename": "KeyboardInterrupt",
     "evalue": "",
     "output_type": "error",
     "traceback": [
      "\u001b[1;31m---------------------------------------------------------------------------\u001b[0m",
      "\u001b[1;31mKeyboardInterrupt\u001b[0m                         Traceback (most recent call last)",
      "\u001b[1;32m<ipython-input-46-9033613142b2>\u001b[0m in \u001b[0;36m<module>\u001b[1;34m\u001b[0m\n\u001b[0;32m      5\u001b[0m \u001b[0mtotal_reward\u001b[0m \u001b[1;33m=\u001b[0m \u001b[1;36m0\u001b[0m\u001b[1;33m\u001b[0m\u001b[1;33m\u001b[0m\u001b[0m\n\u001b[0;32m      6\u001b[0m \u001b[1;32mfor\u001b[0m \u001b[0mi\u001b[0m \u001b[1;32min\u001b[0m \u001b[0mrange\u001b[0m\u001b[1;33m(\u001b[0m\u001b[1;36m1\u001b[0m\u001b[1;33m,\u001b[0m \u001b[1;36m10001\u001b[0m\u001b[1;33m)\u001b[0m\u001b[1;33m:\u001b[0m\u001b[1;33m\u001b[0m\u001b[1;33m\u001b[0m\u001b[0m\n\u001b[1;32m----> 7\u001b[1;33m     \u001b[0mcurrent\u001b[0m\u001b[1;33m,\u001b[0m \u001b[0mdone\u001b[0m \u001b[1;33m=\u001b[0m \u001b[0mtest\u001b[0m\u001b[1;33m(\u001b[0m\u001b[0menv\u001b[0m\u001b[1;33m.\u001b[0m\u001b[0mreset\u001b[0m\u001b[1;33m(\u001b[0m\u001b[1;33m)\u001b[0m\u001b[1;33m)\u001b[0m\u001b[1;33m,\u001b[0m \u001b[1;32mFalse\u001b[0m\u001b[1;33m\u001b[0m\u001b[1;33m\u001b[0m\u001b[0m\n\u001b[0m\u001b[0;32m      8\u001b[0m     \u001b[1;32mwhile\u001b[0m \u001b[1;32mnot\u001b[0m \u001b[0mdone\u001b[0m\u001b[1;33m:\u001b[0m\u001b[1;33m\u001b[0m\u001b[1;33m\u001b[0m\u001b[0m\n\u001b[0;32m      9\u001b[0m         \u001b[0mlr\u001b[0m \u001b[1;33m=\u001b[0m \u001b[0mmax\u001b[0m\u001b[1;33m(\u001b[0m\u001b[1;36m0.01\u001b[0m\u001b[1;33m,\u001b[0m \u001b[0mmin\u001b[0m\u001b[1;33m(\u001b[0m\u001b[1;36m1.0\u001b[0m\u001b[1;33m,\u001b[0m \u001b[1;36m1.0\u001b[0m \u001b[1;33m-\u001b[0m \u001b[0mmath\u001b[0m\u001b[1;33m.\u001b[0m\u001b[0mlog10\u001b[0m\u001b[1;33m(\u001b[0m\u001b[1;33m(\u001b[0m\u001b[0mi\u001b[0m \u001b[1;33m+\u001b[0m \u001b[1;36m1\u001b[0m\u001b[1;33m)\u001b[0m \u001b[1;33m/\u001b[0m \u001b[1;36m25\u001b[0m\u001b[1;33m)\u001b[0m\u001b[1;33m)\u001b[0m\u001b[1;33m)\u001b[0m\u001b[1;33m\u001b[0m\u001b[1;33m\u001b[0m\u001b[0m\n",
      "\u001b[1;32m~\\anaconda3\\lib\\site-packages\\gym\\wrappers\\time_limit.py\u001b[0m in \u001b[0;36mreset\u001b[1;34m(self, **kwargs)\u001b[0m\n\u001b[0;32m     23\u001b[0m     \u001b[1;32mdef\u001b[0m \u001b[0mreset\u001b[0m\u001b[1;33m(\u001b[0m\u001b[0mself\u001b[0m\u001b[1;33m,\u001b[0m \u001b[1;33m**\u001b[0m\u001b[0mkwargs\u001b[0m\u001b[1;33m)\u001b[0m\u001b[1;33m:\u001b[0m\u001b[1;33m\u001b[0m\u001b[1;33m\u001b[0m\u001b[0m\n\u001b[0;32m     24\u001b[0m         \u001b[0mself\u001b[0m\u001b[1;33m.\u001b[0m\u001b[0m_elapsed_steps\u001b[0m \u001b[1;33m=\u001b[0m \u001b[1;36m0\u001b[0m\u001b[1;33m\u001b[0m\u001b[1;33m\u001b[0m\u001b[0m\n\u001b[1;32m---> 25\u001b[1;33m         \u001b[1;32mreturn\u001b[0m \u001b[0mself\u001b[0m\u001b[1;33m.\u001b[0m\u001b[0menv\u001b[0m\u001b[1;33m.\u001b[0m\u001b[0mreset\u001b[0m\u001b[1;33m(\u001b[0m\u001b[1;33m**\u001b[0m\u001b[0mkwargs\u001b[0m\u001b[1;33m)\u001b[0m\u001b[1;33m\u001b[0m\u001b[1;33m\u001b[0m\u001b[0m\n\u001b[0m",
      "\u001b[1;32m~\\anaconda3\\lib\\site-packages\\gym\\envs\\classic_control\\cartpole.py\u001b[0m in \u001b[0;36mreset\u001b[1;34m(self)\u001b[0m\n\u001b[0;32m    157\u001b[0m         \u001b[0mself\u001b[0m\u001b[1;33m.\u001b[0m\u001b[0mstate\u001b[0m \u001b[1;33m=\u001b[0m \u001b[0mself\u001b[0m\u001b[1;33m.\u001b[0m\u001b[0mnp_random\u001b[0m\u001b[1;33m.\u001b[0m\u001b[0muniform\u001b[0m\u001b[1;33m(\u001b[0m\u001b[0mlow\u001b[0m\u001b[1;33m=\u001b[0m\u001b[1;33m-\u001b[0m\u001b[1;36m0.05\u001b[0m\u001b[1;33m,\u001b[0m \u001b[0mhigh\u001b[0m\u001b[1;33m=\u001b[0m\u001b[1;36m0.05\u001b[0m\u001b[1;33m,\u001b[0m \u001b[0msize\u001b[0m\u001b[1;33m=\u001b[0m\u001b[1;33m(\u001b[0m\u001b[1;36m4\u001b[0m\u001b[1;33m,\u001b[0m\u001b[1;33m)\u001b[0m\u001b[1;33m)\u001b[0m\u001b[1;33m\u001b[0m\u001b[1;33m\u001b[0m\u001b[0m\n\u001b[0;32m    158\u001b[0m         \u001b[0mself\u001b[0m\u001b[1;33m.\u001b[0m\u001b[0msteps_beyond_done\u001b[0m \u001b[1;33m=\u001b[0m \u001b[1;32mNone\u001b[0m\u001b[1;33m\u001b[0m\u001b[1;33m\u001b[0m\u001b[0m\n\u001b[1;32m--> 159\u001b[1;33m         \u001b[1;32mreturn\u001b[0m \u001b[0mnp\u001b[0m\u001b[1;33m.\u001b[0m\u001b[0marray\u001b[0m\u001b[1;33m(\u001b[0m\u001b[0mself\u001b[0m\u001b[1;33m.\u001b[0m\u001b[0mstate\u001b[0m\u001b[1;33m)\u001b[0m\u001b[1;33m\u001b[0m\u001b[1;33m\u001b[0m\u001b[0m\n\u001b[0m\u001b[0;32m    160\u001b[0m \u001b[1;33m\u001b[0m\u001b[0m\n\u001b[0;32m    161\u001b[0m     \u001b[1;32mdef\u001b[0m \u001b[0mrender\u001b[0m\u001b[1;33m(\u001b[0m\u001b[0mself\u001b[0m\u001b[1;33m,\u001b[0m \u001b[0mmode\u001b[0m\u001b[1;33m=\u001b[0m\u001b[1;34m'human'\u001b[0m\u001b[1;33m)\u001b[0m\u001b[1;33m:\u001b[0m\u001b[1;33m\u001b[0m\u001b[1;33m\u001b[0m\u001b[0m\n",
      "\u001b[1;31mKeyboardInterrupt\u001b[0m: "
     ]
    }
   ],
   "source": [
    "tic = time.time()\n",
    "reward_list = []\n",
    "Q_table = np.zeros(n_bins + (env.action_space.n,))\n",
    "policy = np.zeros(n_bins)\n",
    "total_reward = 0\n",
    "for i in range(1, 10001):\n",
    "    current, done = test(env.reset()), False\n",
    "    while not done:\n",
    "        lr = max(0.01, min(1.0, 1.0 - math.log10((i + 1) / 25)))\n",
    "        epsilon =  max(0.05, min(1, 1.0 - math.log10((i + 1) / 25)))\n",
    "        action = int(policy[current])\n",
    "        observation, reward, done, info = env.step(action)\n",
    "        next_state = test(observation)\n",
    "        Q_table[current][action] += lr * (reward + Q_table[next_state][int(policy[next_state])] - Q_table[current][action])\n",
    "        current = next_state\n",
    "        if np.random.random() < epsilon:\n",
    "            policy[current] = env.action_space.sample()\n",
    "        else:\n",
    "            policy[current] = np.argmax(Q_table[current])\n",
    "        total_reward += reward\n",
    "    if i % 100 == 0:\n",
    "        reward_list.append(total_reward/100)\n",
    "        print(reward_list[-1])\n",
    "        if reward_list[-1] >= 195.0:\n",
    "            toc = time.time()\n",
    "            print(f'Took {toc-tic:.2f} seconds and achieved average reward of {reward_list[-1]} in {(reward_list.index(reward_list[-1]))*100} episodes')\n",
    "        total_reward = 0\n",
    "toc = time.time()\n",
    "if not success:\n",
    "    print(f'Took {toc-tic:.2f} seconds and failed')\n",
    "    print(f'Max average reward achieved: {np.max(reward_list):.2f}')\n",
    "env.close()"
   ]
  },
  {
   "cell_type": "markdown",
   "metadata": {},
   "source": [
    "## Double Q Learning"
   ]
  },
  {
   "cell_type": "code",
   "execution_count": 93,
   "metadata": {},
   "outputs": [
    {
     "name": "stdout",
     "output_type": "stream",
     "text": [
      "Took 173.85 seconds and failed\n",
      "Max average reward achieved: 46.95\n"
     ]
    }
   ],
   "source": [
    "tic = time.time()\n",
    "Q_table_1 = np.zeros(n_bins + (env.action_space.n,))\n",
    "Q_table_2 = np.zeros(n_bins + (env.action_space.n,))\n",
    "reward_list = []\n",
    "total_reward = 0\n",
    "success = False\n",
    "for i in range(1, 10001):\n",
    "    current, done = discretizer(*env.reset()), False\n",
    "    while not done:\n",
    "        lr = max(0.01, min(1.0, 1.0 - math.log10((i + 1) / 25)))\n",
    "        epsilon =  max(0.05, min(1, 1.0 - math.log10((i  + 1) / 25)))\n",
    "        action = np.argmax(Q_table_1[current] + Q_table_2[current])\n",
    "        if np.random.random() < epsilon:\n",
    "            action = env.action_space.sample()\n",
    "        observation, reward, done, info = env.step(action) \n",
    "        next_state = discretizer(*observation)\n",
    "        if np.random.random() <= 0.5:\n",
    "            Q_table_1[current][action] += lr*(reward + Q_table_2[next_state][np.argmax(Q_table_1[next_state])] - Q_table[current][action])\n",
    "        else:\n",
    "            Q_table_2[current][action] += lr*(reward + Q_table_1[next_state][np.argmax(Q_table_2[next_state])] - Q_table[current][action])\n",
    "        current = next_state\n",
    "        total_reward += reward\n",
    "#        if i % 100:\n",
    "#            env.render()\n",
    "    if i % 100 == 0:\n",
    "#        print(total_reward/100)\n",
    "        reward_list.append(total_reward/100)\n",
    "        if reward_list[-1] >= 195.0:\n",
    "            toc = time.time()\n",
    "            success = True\n",
    "            print(f'Took {toc-tic:.2f} seconds and achieved average reward of {reward_list[-1]} in {(reward_list.index(reward_list[-1]) + 1)*100} episodes')\n",
    "            env.close()\n",
    "            break\n",
    "        total_reward = 0\n",
    "toc = time.time()\n",
    "if not success:\n",
    "    print(f'Took {toc-tic:.2f} seconds and failed')\n",
    "    print(f'Max average reward achieved: {np.max(reward_list):.2f}')\n",
    "env.close()"
   ]
  },
  {
   "cell_type": "code",
   "execution_count": 247,
   "metadata": {},
   "outputs": [],
   "source": [
    "est = KBinsDiscretizer(n_bins=(3,10), encode='ordinal', strategy='uniform')\n",
    "est.fit([[2, 9], [6,10]])\n",
    "t = tuple(map(int,est.transform([[4,9.8]])[0]))"
   ]
  },
  {
   "cell_type": "code",
   "execution_count": 248,
   "metadata": {},
   "outputs": [
    {
     "data": {
      "text/plain": [
       "(1, 8)"
      ]
     },
     "execution_count": 248,
     "metadata": {},
     "output_type": "execute_result"
    }
   ],
   "source": [
    "t"
   ]
  },
  {
   "cell_type": "code",
   "execution_count": null,
   "metadata": {},
   "outputs": [],
   "source": []
  }
 ],
 "metadata": {
  "kernelspec": {
   "display_name": "Python 3",
   "language": "python",
   "name": "python3"
  },
  "language_info": {
   "codemirror_mode": {
    "name": "ipython",
    "version": 3
   },
   "file_extension": ".py",
   "mimetype": "text/x-python",
   "name": "python",
   "nbconvert_exporter": "python",
   "pygments_lexer": "ipython3",
   "version": "3.8.5"
  }
 },
 "nbformat": 4,
 "nbformat_minor": 4
}
